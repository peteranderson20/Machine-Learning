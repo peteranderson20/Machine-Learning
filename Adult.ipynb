{
 "cells": [
  {
   "cell_type": "markdown",
   "id": "b72df611-ccd7-4cfa-a006-386514ba6918",
   "metadata": {},
   "source": [
    "**Notes**\n",
    "- .gz: compressed CSVs with no header, so I will need to provide column names from kddcup.names"
   ]
  },
  {
   "cell_type": "code",
   "execution_count": 1,
   "id": "5c049874-9957-4cd3-ba4c-2a02c7530312",
   "metadata": {},
   "outputs": [
    {
     "name": "stdout",
     "output_type": "stream",
     "text": [
      "{'uci_id': 2, 'name': 'Adult', 'repository_url': 'https://archive.ics.uci.edu/dataset/2/adult', 'data_url': 'https://archive.ics.uci.edu/static/public/2/data.csv', 'abstract': 'Predict whether annual income of an individual exceeds $50K/yr based on census data. Also known as \"Census Income\" dataset. ', 'area': 'Social Science', 'tasks': ['Classification'], 'characteristics': ['Multivariate'], 'num_instances': 48842, 'num_features': 14, 'feature_types': ['Categorical', 'Integer'], 'demographics': ['Age', 'Income', 'Education Level', 'Other', 'Race', 'Sex'], 'target_col': ['income'], 'index_col': None, 'has_missing_values': 'yes', 'missing_values_symbol': 'NaN', 'year_of_dataset_creation': 1996, 'last_updated': 'Tue Sep 24 2024', 'dataset_doi': '10.24432/C5XW20', 'creators': ['Barry Becker', 'Ronny Kohavi'], 'intro_paper': None, 'additional_info': {'summary': \"Extraction was done by Barry Becker from the 1994 Census database.  A set of reasonably clean records was extracted using the following conditions: ((AAGE>16) && (AGI>100) && (AFNLWGT>1)&& (HRSWK>0))\\n\\nPrediction task is to determine whether a person's income is over $50,000 a year.\\n\", 'purpose': None, 'funded_by': None, 'instances_represent': None, 'recommended_data_splits': None, 'sensitive_data': None, 'preprocessing_description': None, 'variable_info': 'Listing of attributes:\\r\\n\\r\\n>50K, <=50K.\\r\\n\\r\\nage: continuous.\\r\\nworkclass: Private, Self-emp-not-inc, Self-emp-inc, Federal-gov, Local-gov, State-gov, Without-pay, Never-worked.\\r\\nfnlwgt: continuous.\\r\\neducation: Bachelors, Some-college, 11th, HS-grad, Prof-school, Assoc-acdm, Assoc-voc, 9th, 7th-8th, 12th, Masters, 1st-4th, 10th, Doctorate, 5th-6th, Preschool.\\r\\neducation-num: continuous.\\r\\nmarital-status: Married-civ-spouse, Divorced, Never-married, Separated, Widowed, Married-spouse-absent, Married-AF-spouse.\\r\\noccupation: Tech-support, Craft-repair, Other-service, Sales, Exec-managerial, Prof-specialty, Handlers-cleaners, Machine-op-inspct, Adm-clerical, Farming-fishing, Transport-moving, Priv-house-serv, Protective-serv, Armed-Forces.\\r\\nrelationship: Wife, Own-child, Husband, Not-in-family, Other-relative, Unmarried.\\r\\nrace: White, Asian-Pac-Islander, Amer-Indian-Eskimo, Other, Black.\\r\\nsex: Female, Male.\\r\\ncapital-gain: continuous.\\r\\ncapital-loss: continuous.\\r\\nhours-per-week: continuous.\\r\\nnative-country: United-States, Cambodia, England, Puerto-Rico, Canada, Germany, Outlying-US(Guam-USVI-etc), India, Japan, Greece, South, China, Cuba, Iran, Honduras, Philippines, Italy, Poland, Jamaica, Vietnam, Mexico, Portugal, Ireland, France, Dominican-Republic, Laos, Ecuador, Taiwan, Haiti, Columbia, Hungary, Guatemala, Nicaragua, Scotland, Thailand, Yugoslavia, El-Salvador, Trinadad&Tobago, Peru, Hong, Holand-Netherlands.', 'citation': None}}\n",
      "              name     role         type      demographic  \\\n",
      "0              age  Feature      Integer              Age   \n",
      "1        workclass  Feature  Categorical           Income   \n",
      "2           fnlwgt  Feature      Integer             None   \n",
      "3        education  Feature  Categorical  Education Level   \n",
      "4    education-num  Feature      Integer  Education Level   \n",
      "5   marital-status  Feature  Categorical            Other   \n",
      "6       occupation  Feature  Categorical            Other   \n",
      "7     relationship  Feature  Categorical            Other   \n",
      "8             race  Feature  Categorical             Race   \n",
      "9              sex  Feature       Binary              Sex   \n",
      "10    capital-gain  Feature      Integer             None   \n",
      "11    capital-loss  Feature      Integer             None   \n",
      "12  hours-per-week  Feature      Integer             None   \n",
      "13  native-country  Feature  Categorical            Other   \n",
      "14          income   Target       Binary           Income   \n",
      "\n",
      "                                          description units missing_values  \n",
      "0                                                 N/A  None             no  \n",
      "1   Private, Self-emp-not-inc, Self-emp-inc, Feder...  None            yes  \n",
      "2                                                None  None             no  \n",
      "3    Bachelors, Some-college, 11th, HS-grad, Prof-...  None             no  \n",
      "4                                                None  None             no  \n",
      "5   Married-civ-spouse, Divorced, Never-married, S...  None             no  \n",
      "6   Tech-support, Craft-repair, Other-service, Sal...  None            yes  \n",
      "7   Wife, Own-child, Husband, Not-in-family, Other...  None             no  \n",
      "8   White, Asian-Pac-Islander, Amer-Indian-Eskimo,...  None             no  \n",
      "9                                       Female, Male.  None             no  \n",
      "10                                               None  None             no  \n",
      "11                                               None  None             no  \n",
      "12                                               None  None             no  \n",
      "13  United-States, Cambodia, England, Puerto-Rico,...  None            yes  \n",
      "14                                       >50K, <=50K.  None             no  \n"
     ]
    }
   ],
   "source": [
    "from ucimlrepo import fetch_ucirepo \n",
    "  \n",
    "# fetch dataset \n",
    "adult = fetch_ucirepo(id=2) \n",
    "  \n",
    "# data (as pandas dataframes) \n",
    "X = adult.data.features \n",
    "y = adult.data.targets \n",
    "  \n",
    "# metadata \n",
    "print(adult.metadata) \n",
    "  \n",
    "# variable information \n",
    "print(adult.variables) "
   ]
  },
  {
   "cell_type": "markdown",
   "id": "414f9482-3d0e-4875-80bc-745d73098547",
   "metadata": {},
   "source": [
    "# Data Exploration"
   ]
  },
  {
   "cell_type": "code",
   "execution_count": 2,
   "id": "ec288416-405d-4912-a074-00d16c38653e",
   "metadata": {},
   "outputs": [
    {
     "data": {
      "text/html": [
       "<div>\n",
       "<style scoped>\n",
       "    .dataframe tbody tr th:only-of-type {\n",
       "        vertical-align: middle;\n",
       "    }\n",
       "\n",
       "    .dataframe tbody tr th {\n",
       "        vertical-align: top;\n",
       "    }\n",
       "\n",
       "    .dataframe thead th {\n",
       "        text-align: right;\n",
       "    }\n",
       "</style>\n",
       "<table border=\"1\" class=\"dataframe\">\n",
       "  <thead>\n",
       "    <tr style=\"text-align: right;\">\n",
       "      <th></th>\n",
       "      <th>age</th>\n",
       "      <th>fnlwgt</th>\n",
       "      <th>education-num</th>\n",
       "      <th>capital-gain</th>\n",
       "      <th>capital-loss</th>\n",
       "      <th>hours-per-week</th>\n",
       "    </tr>\n",
       "  </thead>\n",
       "  <tbody>\n",
       "    <tr>\n",
       "      <th>count</th>\n",
       "      <td>48842.000000</td>\n",
       "      <td>4.884200e+04</td>\n",
       "      <td>48842.000000</td>\n",
       "      <td>48842.000000</td>\n",
       "      <td>48842.000000</td>\n",
       "      <td>48842.000000</td>\n",
       "    </tr>\n",
       "    <tr>\n",
       "      <th>mean</th>\n",
       "      <td>38.643585</td>\n",
       "      <td>1.896641e+05</td>\n",
       "      <td>10.078089</td>\n",
       "      <td>1079.067626</td>\n",
       "      <td>87.502314</td>\n",
       "      <td>40.422382</td>\n",
       "    </tr>\n",
       "    <tr>\n",
       "      <th>std</th>\n",
       "      <td>13.710510</td>\n",
       "      <td>1.056040e+05</td>\n",
       "      <td>2.570973</td>\n",
       "      <td>7452.019058</td>\n",
       "      <td>403.004552</td>\n",
       "      <td>12.391444</td>\n",
       "    </tr>\n",
       "    <tr>\n",
       "      <th>min</th>\n",
       "      <td>17.000000</td>\n",
       "      <td>1.228500e+04</td>\n",
       "      <td>1.000000</td>\n",
       "      <td>0.000000</td>\n",
       "      <td>0.000000</td>\n",
       "      <td>1.000000</td>\n",
       "    </tr>\n",
       "    <tr>\n",
       "      <th>25%</th>\n",
       "      <td>28.000000</td>\n",
       "      <td>1.175505e+05</td>\n",
       "      <td>9.000000</td>\n",
       "      <td>0.000000</td>\n",
       "      <td>0.000000</td>\n",
       "      <td>40.000000</td>\n",
       "    </tr>\n",
       "    <tr>\n",
       "      <th>50%</th>\n",
       "      <td>37.000000</td>\n",
       "      <td>1.781445e+05</td>\n",
       "      <td>10.000000</td>\n",
       "      <td>0.000000</td>\n",
       "      <td>0.000000</td>\n",
       "      <td>40.000000</td>\n",
       "    </tr>\n",
       "    <tr>\n",
       "      <th>75%</th>\n",
       "      <td>48.000000</td>\n",
       "      <td>2.376420e+05</td>\n",
       "      <td>12.000000</td>\n",
       "      <td>0.000000</td>\n",
       "      <td>0.000000</td>\n",
       "      <td>45.000000</td>\n",
       "    </tr>\n",
       "    <tr>\n",
       "      <th>max</th>\n",
       "      <td>90.000000</td>\n",
       "      <td>1.490400e+06</td>\n",
       "      <td>16.000000</td>\n",
       "      <td>99999.000000</td>\n",
       "      <td>4356.000000</td>\n",
       "      <td>99.000000</td>\n",
       "    </tr>\n",
       "  </tbody>\n",
       "</table>\n",
       "</div>"
      ],
      "text/plain": [
       "                age        fnlwgt  education-num  capital-gain  capital-loss  \\\n",
       "count  48842.000000  4.884200e+04   48842.000000  48842.000000  48842.000000   \n",
       "mean      38.643585  1.896641e+05      10.078089   1079.067626     87.502314   \n",
       "std       13.710510  1.056040e+05       2.570973   7452.019058    403.004552   \n",
       "min       17.000000  1.228500e+04       1.000000      0.000000      0.000000   \n",
       "25%       28.000000  1.175505e+05       9.000000      0.000000      0.000000   \n",
       "50%       37.000000  1.781445e+05      10.000000      0.000000      0.000000   \n",
       "75%       48.000000  2.376420e+05      12.000000      0.000000      0.000000   \n",
       "max       90.000000  1.490400e+06      16.000000  99999.000000   4356.000000   \n",
       "\n",
       "       hours-per-week  \n",
       "count    48842.000000  \n",
       "mean        40.422382  \n",
       "std         12.391444  \n",
       "min          1.000000  \n",
       "25%         40.000000  \n",
       "50%         40.000000  \n",
       "75%         45.000000  \n",
       "max         99.000000  "
      ]
     },
     "execution_count": 2,
     "metadata": {},
     "output_type": "execute_result"
    }
   ],
   "source": [
    "X.describe()"
   ]
  },
  {
   "cell_type": "code",
   "execution_count": 3,
   "id": "96549064-9423-4718-83be-10e1019122dc",
   "metadata": {},
   "outputs": [
    {
     "name": "stdout",
     "output_type": "stream",
     "text": [
      "<class 'pandas.core.frame.DataFrame'>\n",
      "RangeIndex: 48842 entries, 0 to 48841\n",
      "Data columns (total 14 columns):\n",
      " #   Column          Non-Null Count  Dtype \n",
      "---  ------          --------------  ----- \n",
      " 0   age             48842 non-null  int64 \n",
      " 1   workclass       47879 non-null  object\n",
      " 2   fnlwgt          48842 non-null  int64 \n",
      " 3   education       48842 non-null  object\n",
      " 4   education-num   48842 non-null  int64 \n",
      " 5   marital-status  48842 non-null  object\n",
      " 6   occupation      47876 non-null  object\n",
      " 7   relationship    48842 non-null  object\n",
      " 8   race            48842 non-null  object\n",
      " 9   sex             48842 non-null  object\n",
      " 10  capital-gain    48842 non-null  int64 \n",
      " 11  capital-loss    48842 non-null  int64 \n",
      " 12  hours-per-week  48842 non-null  int64 \n",
      " 13  native-country  48568 non-null  object\n",
      "dtypes: int64(6), object(8)\n",
      "memory usage: 5.2+ MB\n"
     ]
    }
   ],
   "source": [
    "X.info()"
   ]
  },
  {
   "cell_type": "code",
   "execution_count": 4,
   "id": "5f1415f1-3eac-42ca-a2f8-4a1a13e71ade",
   "metadata": {},
   "outputs": [
    {
     "name": "stdout",
     "output_type": "stream",
     "text": [
      "<class 'pandas.core.frame.DataFrame'>\n",
      "RangeIndex: 48842 entries, 0 to 48841\n",
      "Data columns (total 1 columns):\n",
      " #   Column  Non-Null Count  Dtype \n",
      "---  ------  --------------  ----- \n",
      " 0   income  48842 non-null  object\n",
      "dtypes: object(1)\n",
      "memory usage: 381.7+ KB\n"
     ]
    }
   ],
   "source": [
    "y.info()"
   ]
  },
  {
   "cell_type": "code",
   "execution_count": 5,
   "id": "9427ed0e-1ece-4496-9c5c-b5bf2412dc3a",
   "metadata": {},
   "outputs": [
    {
     "data": {
      "text/html": [
       "<div>\n",
       "<style scoped>\n",
       "    .dataframe tbody tr th:only-of-type {\n",
       "        vertical-align: middle;\n",
       "    }\n",
       "\n",
       "    .dataframe tbody tr th {\n",
       "        vertical-align: top;\n",
       "    }\n",
       "\n",
       "    .dataframe thead th {\n",
       "        text-align: right;\n",
       "    }\n",
       "</style>\n",
       "<table border=\"1\" class=\"dataframe\">\n",
       "  <thead>\n",
       "    <tr style=\"text-align: right;\">\n",
       "      <th></th>\n",
       "      <th>income</th>\n",
       "    </tr>\n",
       "  </thead>\n",
       "  <tbody>\n",
       "    <tr>\n",
       "      <th>count</th>\n",
       "      <td>48842</td>\n",
       "    </tr>\n",
       "    <tr>\n",
       "      <th>unique</th>\n",
       "      <td>4</td>\n",
       "    </tr>\n",
       "    <tr>\n",
       "      <th>top</th>\n",
       "      <td>&lt;=50K</td>\n",
       "    </tr>\n",
       "    <tr>\n",
       "      <th>freq</th>\n",
       "      <td>24720</td>\n",
       "    </tr>\n",
       "  </tbody>\n",
       "</table>\n",
       "</div>"
      ],
      "text/plain": [
       "       income\n",
       "count   48842\n",
       "unique      4\n",
       "top     <=50K\n",
       "freq    24720"
      ]
     },
     "execution_count": 5,
     "metadata": {},
     "output_type": "execute_result"
    }
   ],
   "source": [
    "y.describe()"
   ]
  },
  {
   "cell_type": "code",
   "execution_count": 6,
   "id": "30ebb967-7ba4-476c-93cf-cbc1386996a6",
   "metadata": {},
   "outputs": [
    {
     "data": {
      "text/plain": [
       "array(['<=50K', '>50K', '<=50K.', '>50K.'], dtype=object)"
      ]
     },
     "execution_count": 6,
     "metadata": {},
     "output_type": "execute_result"
    }
   ],
   "source": [
    "y['income'].unique()"
   ]
  },
  {
   "cell_type": "markdown",
   "id": "e7fb340e-6c28-4f22-9cf8-4c9730dce15d",
   "metadata": {},
   "source": [
    "'>50K' and '>50K.' is 1, '<=50K' and '<=50K.' is 0. "
   ]
  },
  {
   "cell_type": "code",
   "execution_count": 7,
   "id": "10a15ae1-8de7-4bb2-89de-024400664954",
   "metadata": {},
   "outputs": [],
   "source": [
    "for idx, value in y['income'].items():\n",
    "    if value in ['<=50K', '<=50K.']:\n",
    "        y.at[idx, 'income'] = 0\n",
    "    else:\n",
    "        y.at[idx, 'income'] = 1"
   ]
  },
  {
   "cell_type": "code",
   "execution_count": 8,
   "id": "5c57386c-1c71-4606-a734-dd41a5ccced0",
   "metadata": {},
   "outputs": [
    {
     "data": {
      "text/plain": [
       "array([0, 1], dtype=object)"
      ]
     },
     "execution_count": 8,
     "metadata": {},
     "output_type": "execute_result"
    }
   ],
   "source": [
    "y['income'].unique()"
   ]
  },
  {
   "cell_type": "code",
   "execution_count": 9,
   "id": "70231042-97b2-432b-ab01-2b500aef8def",
   "metadata": {},
   "outputs": [
    {
     "name": "stderr",
     "output_type": "stream",
     "text": [
      "/var/folders/83/qx33zxpd4cjb39h49x9vvynr0000gn/T/ipykernel_26916/3755289315.py:1: SettingWithCopyWarning: \n",
      "A value is trying to be set on a copy of a slice from a DataFrame.\n",
      "Try using .loc[row_indexer,col_indexer] = value instead\n",
      "\n",
      "See the caveats in the documentation: https://pandas.pydata.org/pandas-docs/stable/user_guide/indexing.html#returning-a-view-versus-a-copy\n",
      "  y['income'] = y['income'].astype(int)\n"
     ]
    }
   ],
   "source": [
    "y['income'] = y['income'].astype(int)"
   ]
  },
  {
   "cell_type": "code",
   "execution_count": 10,
   "id": "e896636f-8b21-407c-b243-106de2352e95",
   "metadata": {},
   "outputs": [
    {
     "data": {
      "text/plain": [
       "array([0, 1])"
      ]
     },
     "execution_count": 10,
     "metadata": {},
     "output_type": "execute_result"
    }
   ],
   "source": [
    "y['income'].unique()"
   ]
  },
  {
   "cell_type": "code",
   "execution_count": 11,
   "id": "3d48fcf2-6655-4d99-bbd6-a90b1ea86089",
   "metadata": {},
   "outputs": [
    {
     "data": {
      "text/html": [
       "<div>\n",
       "<style scoped>\n",
       "    .dataframe tbody tr th:only-of-type {\n",
       "        vertical-align: middle;\n",
       "    }\n",
       "\n",
       "    .dataframe tbody tr th {\n",
       "        vertical-align: top;\n",
       "    }\n",
       "\n",
       "    .dataframe thead th {\n",
       "        text-align: right;\n",
       "    }\n",
       "</style>\n",
       "<table border=\"1\" class=\"dataframe\">\n",
       "  <thead>\n",
       "    <tr style=\"text-align: right;\">\n",
       "      <th></th>\n",
       "      <th>income</th>\n",
       "    </tr>\n",
       "  </thead>\n",
       "  <tbody>\n",
       "    <tr>\n",
       "      <th>count</th>\n",
       "      <td>48842.000000</td>\n",
       "    </tr>\n",
       "    <tr>\n",
       "      <th>mean</th>\n",
       "      <td>0.239282</td>\n",
       "    </tr>\n",
       "    <tr>\n",
       "      <th>std</th>\n",
       "      <td>0.426649</td>\n",
       "    </tr>\n",
       "    <tr>\n",
       "      <th>min</th>\n",
       "      <td>0.000000</td>\n",
       "    </tr>\n",
       "    <tr>\n",
       "      <th>25%</th>\n",
       "      <td>0.000000</td>\n",
       "    </tr>\n",
       "    <tr>\n",
       "      <th>50%</th>\n",
       "      <td>0.000000</td>\n",
       "    </tr>\n",
       "    <tr>\n",
       "      <th>75%</th>\n",
       "      <td>0.000000</td>\n",
       "    </tr>\n",
       "    <tr>\n",
       "      <th>max</th>\n",
       "      <td>1.000000</td>\n",
       "    </tr>\n",
       "  </tbody>\n",
       "</table>\n",
       "</div>"
      ],
      "text/plain": [
       "             income\n",
       "count  48842.000000\n",
       "mean       0.239282\n",
       "std        0.426649\n",
       "min        0.000000\n",
       "25%        0.000000\n",
       "50%        0.000000\n",
       "75%        0.000000\n",
       "max        1.000000"
      ]
     },
     "execution_count": 11,
     "metadata": {},
     "output_type": "execute_result"
    }
   ],
   "source": [
    "y.describe()"
   ]
  },
  {
   "cell_type": "code",
   "execution_count": 12,
   "id": "448668a7-7fb9-46f4-a792-a3e0c92a28e8",
   "metadata": {},
   "outputs": [
    {
     "name": "stdout",
     "output_type": "stream",
     "text": [
      "<class 'pandas.core.frame.DataFrame'>\n",
      "RangeIndex: 48842 entries, 0 to 48841\n",
      "Data columns (total 1 columns):\n",
      " #   Column  Non-Null Count  Dtype\n",
      "---  ------  --------------  -----\n",
      " 0   income  48842 non-null  int64\n",
      "dtypes: int64(1)\n",
      "memory usage: 381.7 KB\n"
     ]
    }
   ],
   "source": [
    "y.info()"
   ]
  },
  {
   "cell_type": "code",
   "execution_count": 13,
   "id": "01d27e90-042b-4c51-9625-42e9cd4261c0",
   "metadata": {},
   "outputs": [
    {
     "name": "stdout",
     "output_type": "stream",
     "text": [
      "<class 'pandas.core.frame.DataFrame'>\n",
      "RangeIndex: 48842 entries, 0 to 48841\n",
      "Data columns (total 14 columns):\n",
      " #   Column          Non-Null Count  Dtype \n",
      "---  ------          --------------  ----- \n",
      " 0   age             48842 non-null  int64 \n",
      " 1   workclass       47879 non-null  object\n",
      " 2   fnlwgt          48842 non-null  int64 \n",
      " 3   education       48842 non-null  object\n",
      " 4   education-num   48842 non-null  int64 \n",
      " 5   marital-status  48842 non-null  object\n",
      " 6   occupation      47876 non-null  object\n",
      " 7   relationship    48842 non-null  object\n",
      " 8   race            48842 non-null  object\n",
      " 9   sex             48842 non-null  object\n",
      " 10  capital-gain    48842 non-null  int64 \n",
      " 11  capital-loss    48842 non-null  int64 \n",
      " 12  hours-per-week  48842 non-null  int64 \n",
      " 13  native-country  48568 non-null  object\n",
      "dtypes: int64(6), object(8)\n",
      "memory usage: 5.2+ MB\n"
     ]
    }
   ],
   "source": [
    "X.info()"
   ]
  },
  {
   "cell_type": "code",
   "execution_count": 14,
   "id": "c62ea5de-e6bf-46ae-859e-b1bb09642f89",
   "metadata": {},
   "outputs": [
    {
     "name": "stdout",
     "output_type": "stream",
     "text": [
      "1221\n"
     ]
    }
   ],
   "source": [
    "num_rows_with_null = X.isnull().any(axis=1).sum()\n",
    "print(num_rows_with_null)"
   ]
  },
  {
   "cell_type": "code",
   "execution_count": 15,
   "id": "6aad4647-9968-42fc-9494-2f9219cf7d76",
   "metadata": {},
   "outputs": [
    {
     "data": {
      "text/plain": [
       "np.int64(4262)"
      ]
     },
     "execution_count": 15,
     "metadata": {},
     "output_type": "execute_result"
    }
   ],
   "source": [
    "(X == '?').sum().sum() #sum per column, total across all columns "
   ]
  },
  {
   "cell_type": "code",
   "execution_count": 16,
   "id": "364db5d3-3cb9-4648-aec1-80c2ec746c2f",
   "metadata": {},
   "outputs": [
    {
     "name": "stdout",
     "output_type": "stream",
     "text": [
      "3620\n"
     ]
    }
   ],
   "source": [
    "import pandas as pd\n",
    "\n",
    "X = X.replace('?', pd.NA)\n",
    "\n",
    "num_rows_with_null = X.isna().any(axis=1).sum()\n",
    "print(num_rows_with_null)"
   ]
  },
  {
   "cell_type": "code",
   "execution_count": 17,
   "id": "32c6c72e-bd0e-46a6-9551-8089d7d85cf8",
   "metadata": {},
   "outputs": [
    {
     "data": {
      "text/plain": [
       "array(['State-gov', 'Self-emp-not-inc', 'Private', 'Federal-gov',\n",
       "       'Local-gov', <NA>, 'Self-emp-inc', 'Without-pay', 'Never-worked',\n",
       "       nan], dtype=object)"
      ]
     },
     "execution_count": 17,
     "metadata": {},
     "output_type": "execute_result"
    }
   ],
   "source": [
    "X['workclass'].unique()"
   ]
  },
  {
   "cell_type": "markdown",
   "id": "768d1bd5-6e56-4d7c-a19e-0be042b82b24",
   "metadata": {},
   "source": [
    "Before we drop the missing rows, we want to see if there are alternative methods that could be better. First we will investigate if the missingness seems random or not. "
   ]
  },
  {
   "cell_type": "code",
   "execution_count": 18,
   "id": "e2c5cb67-b9e8-4822-8175-fc53bd60e00c",
   "metadata": {},
   "outputs": [
    {
     "name": "stdout",
     "output_type": "stream",
     "text": [
      "<class 'pandas.core.frame.DataFrame'>\n",
      "RangeIndex: 48842 entries, 0 to 48841\n",
      "Data columns (total 14 columns):\n",
      " #   Column          Non-Null Count  Dtype \n",
      "---  ------          --------------  ----- \n",
      " 0   age             48842 non-null  int64 \n",
      " 1   workclass       46043 non-null  object\n",
      " 2   fnlwgt          48842 non-null  int64 \n",
      " 3   education       48842 non-null  object\n",
      " 4   education-num   48842 non-null  int64 \n",
      " 5   marital-status  48842 non-null  object\n",
      " 6   occupation      46033 non-null  object\n",
      " 7   relationship    48842 non-null  object\n",
      " 8   race            48842 non-null  object\n",
      " 9   sex             48842 non-null  object\n",
      " 10  capital-gain    48842 non-null  int64 \n",
      " 11  capital-loss    48842 non-null  int64 \n",
      " 12  hours-per-week  48842 non-null  int64 \n",
      " 13  native-country  47985 non-null  object\n",
      "dtypes: int64(6), object(8)\n",
      "memory usage: 5.2+ MB\n"
     ]
    }
   ],
   "source": [
    "X.info()"
   ]
  },
  {
   "cell_type": "code",
   "execution_count": 19,
   "id": "00ad3b7f-430c-4b59-951c-9a5847d36611",
   "metadata": {},
   "outputs": [
    {
     "data": {
      "text/plain": [
       "occupation        0.057512\n",
       "workclass         0.057307\n",
       "native-country    0.017546\n",
       "age               0.000000\n",
       "fnlwgt            0.000000\n",
       "education         0.000000\n",
       "education-num     0.000000\n",
       "marital-status    0.000000\n",
       "relationship      0.000000\n",
       "race              0.000000\n",
       "sex               0.000000\n",
       "capital-gain      0.000000\n",
       "capital-loss      0.000000\n",
       "hours-per-week    0.000000\n",
       "dtype: float64"
      ]
     },
     "execution_count": 19,
     "metadata": {},
     "output_type": "execute_result"
    }
   ],
   "source": [
    "#lets see % missingness in each column, random missingness should have the same % per column\n",
    "X.isnull().mean().sort_values(ascending=False)"
   ]
  },
  {
   "cell_type": "code",
   "execution_count": 20,
   "id": "8f06c966-a62d-40ef-89ab-d8f833ebe8b0",
   "metadata": {},
   "outputs": [
    {
     "name": "stdout",
     "output_type": "stream",
     "text": [
      "occupation: p-value=0.0000\n",
      "workclass: p-value=0.0000\n",
      "native-country: p-value=0.2436\n"
     ]
    }
   ],
   "source": [
    "#this ues Chi-Squared test of indepdendence on a contingency table, \n",
    "#tells you whether two categorical variables are statistically independent\n",
    "from scipy.stats import chi2_contingency\n",
    "\n",
    "for col in [\"occupation\", \"workclass\", \"native-country\"]:\n",
    "    #builds a contingency table (frequency counts)\n",
    "    contingency = pd.crosstab(X[col].isnull(), y.squeeze())\n",
    "    chi2, p, _, _ = chi2_contingency(contingency)\n",
    "    print(f\"{col}: p-value={p:.4f}\")\n",
    "\n",
    "#if p < 0.05, missingness is statistically associated with the target \n",
    "#if p > 0.05, there's no strong evidence missingness depends on the target"
   ]
  },
  {
   "cell_type": "markdown",
   "id": "0a84a115-69a2-4caf-a2b9-d88a559cdbca",
   "metadata": {},
   "source": [
    "To deal with this, we will create a \"missing\" bucket for the embeddings since this statistical significance tells us that hte missingness is informative to the model. "
   ]
  },
  {
   "cell_type": "code",
   "execution_count": 21,
   "id": "a2e83fb6-bd71-487c-8e45-44b538c4b91c",
   "metadata": {},
   "outputs": [
    {
     "name": "stdout",
     "output_type": "stream",
     "text": [
      "workclass: 10\n",
      "education: 16\n",
      "marital-status: 7\n",
      "occupation: 16\n",
      "relationship: 6\n",
      "race: 5\n",
      "sex: 2\n",
      "native-country: 43\n"
     ]
    }
   ],
   "source": [
    "for column in X.columns:\n",
    "    if X[column].dtype == 'object':\n",
    "        print(f\"{column}: {len(X[column].unique())}\")\n",
    "\n"
   ]
  },
  {
   "cell_type": "markdown",
   "id": "a3c4902c-5c8e-475c-bbad-a8900b766d0e",
   "metadata": {},
   "source": [
    "Checking for duplicate rows"
   ]
  },
  {
   "cell_type": "code",
   "execution_count": 22,
   "id": "d1d446c2-3fb9-42fc-998d-49f834bdeadf",
   "metadata": {},
   "outputs": [
    {
     "name": "stdout",
     "output_type": "stream",
     "text": [
      "57\n"
     ]
    }
   ],
   "source": [
    "num_duplicates = X.duplicated().sum()\n",
    "print(num_duplicates)"
   ]
  },
  {
   "cell_type": "markdown",
   "id": "0434407c-e032-4b3f-adfd-d331e19cd210",
   "metadata": {},
   "source": [
    "Checking how many times the same features map to different targets"
   ]
  },
  {
   "cell_type": "code",
   "execution_count": 23,
   "id": "4c5d27e6-bc3e-46a8-8e81-1616e04deebd",
   "metadata": {},
   "outputs": [
    {
     "name": "stdout",
     "output_type": "stream",
     "text": [
      "Number of conflicting feature sets: 5\n"
     ]
    }
   ],
   "source": [
    "#temp_df = X + y = features + target\n",
    "temp_df = X.copy()\n",
    "temp_df['target'] = y\n",
    "\n",
    "#list(X.columns) - gives a Python list of all feature column names\n",
    "#temp_df.groupby(list(X.columns)) - groups rows of temp_df by all their feature values\n",
    "#[\"target\"].nunique() - inside each group, look only at the target column and count \n",
    "    # how many unique target values there are\n",
    "#.reset_index() - by default groupby makes the grouping columns part of the index, not normal columns\n",
    "    # so reset_index() moves them abck into regular columns\n",
    "conflicts = (\n",
    "    temp_df.groupby(list(X.columns))[\"target\"].nunique().reset_index()\n",
    ")\n",
    "\n",
    "conflicts = conflicts[conflicts['target'] > 1]\n",
    "\n",
    "print(\"Number of conflicting feature sets:\", len(conflicts))"
   ]
  },
  {
   "cell_type": "code",
   "execution_count": 24,
   "id": "b13f020e-6b51-46d7-8dfc-355903a14ce6",
   "metadata": {},
   "outputs": [
    {
     "name": "stdout",
     "output_type": "stream",
     "text": [
      "<class 'pandas.core.frame.DataFrame'>\n",
      "RangeIndex: 48842 entries, 0 to 48841\n",
      "Data columns (total 14 columns):\n",
      " #   Column          Non-Null Count  Dtype \n",
      "---  ------          --------------  ----- \n",
      " 0   age             48842 non-null  int64 \n",
      " 1   workclass       46043 non-null  object\n",
      " 2   fnlwgt          48842 non-null  int64 \n",
      " 3   education       48842 non-null  object\n",
      " 4   education-num   48842 non-null  int64 \n",
      " 5   marital-status  48842 non-null  object\n",
      " 6   occupation      46033 non-null  object\n",
      " 7   relationship    48842 non-null  object\n",
      " 8   race            48842 non-null  object\n",
      " 9   sex             48842 non-null  object\n",
      " 10  capital-gain    48842 non-null  int64 \n",
      " 11  capital-loss    48842 non-null  int64 \n",
      " 12  hours-per-week  48842 non-null  int64 \n",
      " 13  native-country  47985 non-null  object\n",
      "dtypes: int64(6), object(8)\n",
      "memory usage: 5.2+ MB\n"
     ]
    }
   ],
   "source": [
    "X.info()"
   ]
  },
  {
   "cell_type": "markdown",
   "id": "dbb27534-5ec8-4fb7-9086-0b2448c637e9",
   "metadata": {},
   "source": [
    "## Options for Encoding Categorical Variables\n",
    "1. One-Hot Encoding\n",
    "   - Pros: no information loss\n",
    "   - Cons: expldoes feature size, leads to sparse data\n",
    "2. Label Encoding\n",
    "   - How it works: Assign each category an integer label\n",
    "   - Pros: keeps dimensionality low\n",
    "   - Cons: NN may interpret numbers as ordinal when in reality they have no mathematical relationship\n",
    "3. Target Encoding / Mean Encoding\n",
    "   - How it works: Replaces each category with a numerical statistic, which could be the most common category\n",
    "   - Pros: compact\n",
    "   - Cons: loss of information\n",
    "4. Embedding Layers\n",
    "   - How it works: each category is mapped to a dense vector of learned weights"
   ]
  },
  {
   "cell_type": "markdown",
   "id": "ac056dd5-09b1-4bfd-8ecc-01042a723ff6",
   "metadata": {},
   "source": [
    "Dropping rows for SMOTENC"
   ]
  },
  {
   "cell_type": "code",
   "execution_count": 89,
   "id": "bb8f486d-8805-473f-8efd-5982e50526f6",
   "metadata": {},
   "outputs": [
    {
     "name": "stdout",
     "output_type": "stream",
     "text": [
      "X (45222, 14)\n",
      "y (45222, 1)\n"
     ]
    }
   ],
   "source": [
    "X = X.dropna()\n",
    "y = y.loc[X.index]\n",
    "print(\"X\", X.shape)\n",
    "print('y', y.shape)"
   ]
  },
  {
   "cell_type": "markdown",
   "id": "f6973890-97f8-4603-b74c-7f51fb59d9bd",
   "metadata": {},
   "source": [
    "# Preprocessing\n",
    "- We already handled missing data, and categorical data will be handled when we setup the model since there will be an embedding layer. "
   ]
  },
  {
   "cell_type": "code",
   "execution_count": 90,
   "id": "b213d632-dc48-4eb8-adc8-8d467ada8093",
   "metadata": {},
   "outputs": [],
   "source": [
    "from sklearn.model_selection import train_test_split\n",
    "import numpy as np\n",
    "\n",
    "cat_cols = [c for c in X.columns if X[c].dtype == 'object']\n",
    "num_cols = X.select_dtypes(include=[np.number]).columns\n",
    "\n",
    "X_train_full, X_test, y_train_full, y_test = train_test_split(\n",
    "    X, y,\n",
    "    test_size=0.2,\n",
    "    random_state=42,\n",
    "    stratify=y\n",
    ")\n",
    "X_train, X_val, y_train, y_val = train_test_split(\n",
    "    X_train_full, y_train_full,\n",
    "    test_size=0.2,\n",
    "    random_state=42,\n",
    "    stratify=y_train_full\n",
    ")\n",
    "\n",
    "\n",
    "#stratification to y to make sure distribution of classes is the same in train and validaiton. \n",
    "\n",
    "\n",
    "\n",
    "                    "
   ]
  },
  {
   "cell_type": "markdown",
   "id": "a2e0113c-e429-4a2f-a192-8048997cbb11",
   "metadata": {},
   "source": [
    "## SMOTENC"
   ]
  },
  {
   "cell_type": "code",
   "execution_count": 102,
   "id": "1b886c97-6655-4828-8ae8-2fac607080e6",
   "metadata": {},
   "outputs": [],
   "source": [
    "import numpy as np\n",
    "import pandas as pd\n",
    "\n",
    "X_tr = X_train.copy()\n",
    "y_tr = y_train.copy()\n",
    "\n",
    "cats_lookup = {} #storing category lists to invert codes later\n",
    "for column in cat_cols:\n",
    "    cat = pd.Categorical(X_tr[column])\n",
    "    cats_lookup[column] = cat.categories\n",
    "    X_tr[column] = cat.codes #integer codes\n",
    "\n",
    "all_cols = list(X_tr.columns)\n",
    "cat_idx = [all_cols.index(c) for c in cat_cols]"
   ]
  },
  {
   "cell_type": "code",
   "execution_count": 107,
   "id": "9e2df571-e447-4e16-9766-f29b4588d750",
   "metadata": {},
   "outputs": [],
   "source": [
    "from imblearn.over_sampling import SMOTENC\n",
    "\n",
    "sm = SMOTENC(\n",
    "    categorical_features=cat_idx,\n",
    "    sampling_strategy=\"auto\",\n",
    "    k_neighbors=5,\n",
    "    random_state=42\n",
    ")\n",
    "X_tr_res, y_tr_res = sm.fit_resample(X_tr.values, np.asarray(y_tr).ravel())"
   ]
  },
  {
   "cell_type": "code",
   "execution_count": 108,
   "id": "16e92389-cca9-4c83-873f-70d8888740b4",
   "metadata": {},
   "outputs": [],
   "source": [
    "X_train_res = pd.DataFrame(X_tr_res, columns=all_cols)\n",
    "y_train_res = pd.Series(y_tr_res, index=range(len(y_tr_res)))\n",
    "\n",
    "for column in cat_cols:\n",
    "    codes = X_train_res[column].astype(int).to_numpy()\n",
    "    X_train_res[column] = pd.Series(cats_lookup[column].take(codes), index=X_train_res.index).astype(\"object\")"
   ]
  },
  {
   "cell_type": "code",
   "execution_count": 109,
   "id": "85c2d07d-c766-4062-a981-0a9612eb6b8d",
   "metadata": {},
   "outputs": [
    {
     "name": "stdout",
     "output_type": "stream",
     "text": [
      "Before: {(0,): 21768, (1,): 7173}\n",
      "After : {1: 21768, 0: 21768}\n"
     ]
    }
   ],
   "source": [
    "print(\"Before:\", y_train.value_counts().to_dict())\n",
    "print(\"After :\", y_train_res.value_counts().to_dict())"
   ]
  },
  {
   "cell_type": "code",
   "execution_count": 111,
   "id": "9bc3ff33-5567-4520-92c0-ecfafff648e0",
   "metadata": {},
   "outputs": [
    {
     "name": "stdout",
     "output_type": "stream",
     "text": [
      "(43536, 14) (43536,)\n"
     ]
    }
   ],
   "source": [
    "X_train = X_train_res\n",
    "y_train = y_train_res\n",
    "\n",
    "print(X_train.shape, y_train.shape)"
   ]
  },
  {
   "cell_type": "markdown",
   "id": "5ec567e5-11e6-4179-8f72-c5a3342b983e",
   "metadata": {},
   "source": [
    "### Converting categorical columns to integer IDS\n",
    "\n",
    "Embedding layers expect integer indices, so the categories must be mapped to numbers with 0 reserved for UNK (unknown/unseen categories)"
   ]
  },
  {
   "cell_type": "code",
   "execution_count": 112,
   "id": "13116afc-2c85-4b13-b8d3-fa063bc31427",
   "metadata": {},
   "outputs": [
    {
     "name": "stdout",
     "output_type": "stream",
     "text": [
      "{'workclass': {'__UNK__': 0, '__MISSING__': 1, 'Private': 2, 'State-gov': 3, 'Self-emp-not-inc': 4, 'Federal-gov': 5, 'Local-gov': 6, 'Self-emp-inc': 7, 'Without-pay': 8}, 'education': {'__UNK__': 0, '__MISSING__': 1, 'Bachelors': 2, 'HS-grad': 3, 'Masters': 4, 'Some-college': 5, '7th-8th': 6, 'Prof-school': 7, '11th': 8, '10th': 9, 'Assoc-voc': 10, '5th-6th': 11, '12th': 12, 'Assoc-acdm': 13, '9th': 14, 'Doctorate': 15, '1st-4th': 16, 'Preschool': 17}, 'marital-status': {'__UNK__': 0, '__MISSING__': 1, 'Married-civ-spouse': 2, 'Never-married': 3, 'Divorced': 4, 'Separated': 5, 'Widowed': 6, 'Married-spouse-absent': 7, 'Married-AF-spouse': 8}, 'occupation': {'__UNK__': 0, '__MISSING__': 1, 'Exec-managerial': 2, 'Adm-clerical': 3, 'Prof-specialty': 4, 'Sales': 5, 'Farming-fishing': 6, 'Machine-op-inspct': 7, 'Transport-moving': 8, 'Craft-repair': 9, 'Tech-support': 10, 'Other-service': 11, 'Protective-serv': 12, 'Priv-house-serv': 13, 'Handlers-cleaners': 14, 'Armed-Forces': 15}, 'relationship': {'__UNK__': 0, '__MISSING__': 1, 'Husband': 2, 'Unmarried': 3, 'Own-child': 4, 'Other-relative': 5, 'Wife': 6, 'Not-in-family': 7}, 'race': {'__UNK__': 0, '__MISSING__': 1, 'White': 2, 'Black': 3, 'Other': 4, 'Asian-Pac-Islander': 5, 'Amer-Indian-Eskimo': 6}, 'sex': {'__UNK__': 0, '__MISSING__': 1, 'Male': 2, 'Female': 3}, 'native-country': {'__UNK__': 0, '__MISSING__': 1, 'United-States': 2, 'Cuba': 3, 'Dominican-Republic': 4, 'India': 5, 'Italy': 6, 'Canada': 7, 'China': 8, 'Guatemala': 9, 'Japan': 10, 'Ecuador': 11, 'Vietnam': 12, 'Mexico': 13, 'Philippines': 14, 'Puerto-Rico': 15, 'England': 16, 'Jamaica': 17, 'El-Salvador': 18, 'South': 19, 'Poland': 20, 'Taiwan': 21, 'Germany': 22, 'Portugal': 23, 'Iran': 24, 'Peru': 25, 'Trinadad&Tobago': 26, 'Nicaragua': 27, 'France': 28, 'Haiti': 29, 'Ireland': 30, 'Columbia': 31, 'Greece': 32, 'Yugoslavia': 33, 'Outlying-US(Guam-USVI-etc)': 34, 'Thailand': 35, 'Scotland': 36, 'Cambodia': 37, 'Hong': 38, 'Hungary': 39, 'Laos': 40, 'Honduras': 41, 'Holand-Netherlands': 42}}\n",
      "9\n",
      "18\n",
      "9\n",
      "16\n",
      "8\n",
      "7\n",
      "4\n",
      "43\n"
     ]
    }
   ],
   "source": [
    "#first we build the mappings from the training dataset only\n",
    "cat_maps = {}\n",
    "\n",
    "for column in cat_cols:\n",
    "    updated_column = X_train[column].astype(\"object\").fillna(\"__MISSING__\")\n",
    "    categories = updated_column.unique()\n",
    "    mapping = {\"__UNK__\": 0, \"__MISSING__\": 1}\n",
    "    next_id = 2\n",
    "    for v in categories:\n",
    "        if v in mapping: \n",
    "            continue\n",
    "        mapping[v] = next_id\n",
    "        next_id += 1\n",
    "    cat_maps[column] = mapping\n",
    "\n",
    "print(cat_maps)\n",
    "\n",
    "for c in cat_cols:\n",
    "    print(len(cat_maps[c]))\n",
    "    "
   ]
  },
  {
   "cell_type": "code",
   "execution_count": 113,
   "id": "1bd56542-0f0c-4610-acb7-10afcf9597b8",
   "metadata": {},
   "outputs": [
    {
     "name": "stdout",
     "output_type": "stream",
     "text": [
      "Train:\n",
      "        workclass  education  marital-status  occupation  relationship  race  \\\n",
      "0              2          2               2           2             2     2   \n",
      "1              3          3               3           3             3     3   \n",
      "2              2          4               2           4             2     2   \n",
      "3              4          5               2           5             2     2   \n",
      "4              2          5               3           3             4     2   \n",
      "...          ...        ...             ...         ...           ...   ...   \n",
      "43531          2          2               2           2             2     2   \n",
      "43532          2          3               2           2             2     2   \n",
      "43533          2          4               2          10             2     2   \n",
      "43534          2          3               2           9             2     2   \n",
      "43535          2         13               2           9             2     2   \n",
      "\n",
      "       sex  native-country  \n",
      "0        2               2  \n",
      "1        3               2  \n",
      "2        2               3  \n",
      "3        2               2  \n",
      "4        3               2  \n",
      "...    ...             ...  \n",
      "43531    2               2  \n",
      "43532    2               2  \n",
      "43533    2               2  \n",
      "43534    2               2  \n",
      "43535    2               2  \n",
      "\n",
      "[43536 rows x 8 columns]\n",
      "\n",
      "Val:\n",
      "        workclass  education  marital-status  occupation  relationship  race  \\\n",
      "15244          2          5               2           5             2     2   \n",
      "26994          2          3               2           7             2     2   \n",
      "23561          2          3               5           3             3     2   \n",
      "17681          2          5               3           5             7     2   \n",
      "45343          2          5               3           8             7     2   \n",
      "...          ...        ...             ...         ...           ...   ...   \n",
      "46688          2          6               3          14             4     2   \n",
      "8863           2          3               5           9             7     2   \n",
      "12138          6          3               3          11             3     2   \n",
      "14639          2          2               3           2             7     2   \n",
      "28779          2          9               3           5             7     2   \n",
      "\n",
      "       sex  native-country  \n",
      "15244    2               2  \n",
      "26994    2               2  \n",
      "23561    3               2  \n",
      "17681    2               2  \n",
      "45343    2               2  \n",
      "...    ...             ...  \n",
      "46688    2               2  \n",
      "8863     2               2  \n",
      "12138    3               2  \n",
      "14639    2               2  \n",
      "28779    3               2  \n",
      "\n",
      "[7236 rows x 8 columns]\n"
     ]
    }
   ],
   "source": [
    "def map_categories(column, mapping):\n",
    "    column = column.astype(\"object\").fillna(\"__MISSING__\")\n",
    "    return column.map(mapping).fillna(mapping[\"__UNK__\"]).astype(\"int64\")\n",
    "\n",
    "# I removed missing columns from X already, but here\n",
    "# map(mapping) will return NaN if it encounters a category not seen in cat_maps\n",
    "# that is, not seen in training but seen in the validation set\n",
    "# so, I put fillna(0) to put those unseen cateogires into the unk bucket\n",
    "\n",
    "\n",
    "#the map_categories function only works on one column at a time,\n",
    "#so I put a lambda function so it applies map_categories to all columns in cat_cols\n",
    "\n",
    "train_categories = X_train[cat_cols].apply(lambda column: map_categories(column, cat_maps[column.name]))\n",
    "val_categories = X_val[cat_cols].apply(lambda column: map_categories(column, cat_maps[column.name]))\n",
    "\n",
    "print(\"Train:\\n\", train_categories)\n",
    "print(\"\\nVal:\\n\", val_categories)"
   ]
  },
  {
   "cell_type": "markdown",
   "id": "17a58cce-2e27-49a0-8bbd-ce969cd5546e",
   "metadata": {},
   "source": [
    "### Scaling the numeric columns "
   ]
  },
  {
   "cell_type": "code",
   "execution_count": 114,
   "id": "ed9fe5d2-25b1-4e14-9e7b-c2263fe179bb",
   "metadata": {},
   "outputs": [],
   "source": [
    "import numpy as np\n",
    "from sklearn.preprocessing import StandardScaler\n",
    "\n",
    "#standard scaler transforms integers into real numbers\n",
    "#PyTorch layers expect inputs of type torch.float32\n",
    "#It is float32 instead of float64 to use less memory, therefore the training process is faster\n",
    "\n",
    "scaler = StandardScaler()\n",
    "X_train_scaled = scaler.fit_transform(X_train[num_cols]).astype(\"float32\")\n",
    "X_val_scaled = scaler.transform(X_val[num_cols]).astype(\"float32\")"
   ]
  },
  {
   "cell_type": "markdown",
   "id": "dd572e2e-511c-48ff-a5fe-53da63975c9c",
   "metadata": {},
   "source": [
    "### Building categorical ID matrices\n",
    "This step is about converting the categorical columns into the shape that that the embedding layers expect, which is (batch_size, num_cat_cols)"
   ]
  },
  {
   "cell_type": "code",
   "execution_count": 115,
   "id": "5c391a1b-fb33-4783-aa0f-275ea5b92ab9",
   "metadata": {},
   "outputs": [
    {
     "name": "stdout",
     "output_type": "stream",
     "text": [
      "(43536, 8)\n",
      "[[2 2 2 2 2 2 2 2]\n",
      " [3 3 3 3 3 3 3 2]\n",
      " [2 4 2 4 2 2 2 3]]\n"
     ]
    }
   ],
   "source": [
    "X_train_categories = train_categories.to_numpy(dtype=\"int64\")\n",
    "X_val_categories = val_categories.to_numpy(dtype=\"int64\")\n",
    "\n",
    "print(X_train_categories.shape) #(num_rows, num_cat_cols)\n",
    "print(X_train_categories[:3]) #each row = one training example\n",
    "                              #each column = one encoded ID for a categorical feature"
   ]
  },
  {
   "cell_type": "markdown",
   "id": "f2f779b2-8716-4a03-ac43-eec2a274f30c",
   "metadata": {},
   "source": [
    "### Make y float32\n",
    "- We will be using nn.BCEWithLogitsLoss\n",
    "- The model will output a float32 logit\n",
    "- The loss compares that float32 logit against the target tensor (y), and if y is int, PyTorch will throw a dtype mismatch error "
   ]
  },
  {
   "cell_type": "code",
   "execution_count": 116,
   "id": "502a8bdd-6680-42cc-a0d3-ef0f2da5c2d6",
   "metadata": {},
   "outputs": [
    {
     "name": "stdout",
     "output_type": "stream",
     "text": [
      "<class 'pandas.core.series.Series'>\n"
     ]
    }
   ],
   "source": [
    "print(type(y_train))"
   ]
  },
  {
   "cell_type": "code",
   "execution_count": 117,
   "id": "76177e1d-09ca-4c34-9708-b57c48501230",
   "metadata": {},
   "outputs": [],
   "source": [
    "y_train_array = y_train.astype(\"float32\").to_numpy()\n",
    "y_val_array = y_val.astype(\"float32\").to_numpy()"
   ]
  },
  {
   "cell_type": "code",
   "execution_count": 118,
   "id": "3cd751c2-46be-4fa0-b346-ac4cb9c50c21",
   "metadata": {},
   "outputs": [
    {
     "name": "stdout",
     "output_type": "stream",
     "text": [
      "<class 'numpy.ndarray'>\n"
     ]
    }
   ],
   "source": [
    "print(type(y_train_array))"
   ]
  },
  {
   "cell_type": "markdown",
   "id": "2cbac700-eaeb-4bc0-bf5a-b23710771e86",
   "metadata": {},
   "source": [
    "### The Embedding Layer\n",
    "- Mathematically: a lookup table (a matrix of learnable weights)\n",
    "- Shape: (num_categories, embedding_dim); the rows are categories (0, 1, 2, etc.) and the columns are the latent features for each category. So, each categorical column will get its own embedding layer.\n",
    "- It expects a tensor of integer IDs (torch.int64 aka LongTensor) of shape (batch_size, num_cat_cols). Each row is a sample, each column is the category (integer IDs)\n",
    "- For each categorical column it outputs an embedding vector as float32. For multiple categorical columns, their embeddings will be contatenated.\n",
    "- The embedding vectors themselves are learned during training\n",
    "\n",
    "\n",
    "<br>\n",
    "In short: column --> embedding vector \n",
    "<br>\n",
    "The next step will be figuring out how many categories each column has, then picking embedding dimensions for each. "
   ]
  },
  {
   "cell_type": "markdown",
   "id": "c453adac-fd50-4708-a1ee-09c8d3313fbd",
   "metadata": {},
   "source": [
    "### Vocab sizes \n",
    "The cleanest, stable vocab size is just the mapping length, or the toal number of unique integer IDs that can appear in a given column"
   ]
  },
  {
   "cell_type": "code",
   "execution_count": 119,
   "id": "ba0308d1-0351-490a-9e2f-27e5ac0c312a",
   "metadata": {},
   "outputs": [
    {
     "name": "stdout",
     "output_type": "stream",
     "text": [
      "vocab_sizes [9, 18, 9, 16, 8, 7, 4, 43]\n",
      "emb_dims [(9, 14), (18, 16), (9, 14), (16, 16), (8, 13), (7, 13), (4, 11), (43, 20)]\n"
     ]
    }
   ],
   "source": [
    "vocab_sizes = [len(cat_maps[c]) for c in cat_cols]\n",
    "\n",
    "#next, we have a function that computes the embedding dimension\n",
    "#in a way that balances model expressiveness with efficiency\n",
    "\n",
    "def pick_emb_dim(vocab_size):\n",
    "    return min(50, max(4, int(round(vocab_size**0.25 * 8))))\n",
    "\n",
    "#Next we compute the embedding dimensions for each column\n",
    "emb_dims = [(vocab_size, pick_emb_dim(vocab_size)) for vocab_size in vocab_sizes]\n",
    "\n",
    "print(\"vocab_sizes\", vocab_sizes)\n",
    "print(\"emb_dims\", emb_dims)"
   ]
  },
  {
   "cell_type": "markdown",
   "id": "522db6a1-cb8e-4922-92e4-261666cd1e17",
   "metadata": {},
   "source": [
    "# Modeling\n",
    "This part of the project is where the PyTorch philosphy shines.\n",
    "- Nothing is hidden, and I define how data is stored, accessed, batched, and shuffled.\n",
    "\n",
    "For this, PyTorch gives two pieces:\n",
    "1. Dataset: how to get a single sample, and we can neatly package each batch as (x_cats, x_nums, y)\n",
    "2. DataLoader: how to turn that Dataset into batches with shuffling, batching, multiprocessing, moving to GPU, etc. "
   ]
  },
  {
   "cell_type": "markdown",
   "id": "0b2c5c0d-51b4-42a9-a5fa-c0479904b92c",
   "metadata": {},
   "source": [
    "## Dataset and DataLoader "
   ]
  },
  {
   "cell_type": "code",
   "execution_count": 120,
   "id": "17c899ae-ed3f-407b-9578-434470434bf6",
   "metadata": {},
   "outputs": [],
   "source": [
    "import torch\n",
    "from torch.utils.data import Dataset, DataLoader\n",
    "import numpy as np\n",
    "\n",
    "class TabularDS(Dataset):\n",
    "    def __init__(self, X_cats, X_nums, y):\n",
    "        self.X_cats = X_cats\n",
    "        self.X_nums = X_nums\n",
    "        self.y = y.reshape(-1, 1) #forces column vector (N,1)\n",
    "\n",
    "    def __len__(self):\n",
    "        return self.y.shape[0]\n",
    "\n",
    "    def __getitem__(self, i):\n",
    "        return (\n",
    "            torch.tensor(self.X_cats[i], dtype=torch.long),\n",
    "            torch.tensor(self.X_nums[i], dtype=torch.float32),\n",
    "            torch.tensor(self.y[i], dtype=torch.float32),\n",
    "        )\n",
    "train_dataset = TabularDS(X_train_categories, X_train_scaled, y_train_array)\n",
    "val_dataset = TabularDS(X_val_categories, X_val_scaled, y_val_array)\n",
    "\n",
    "#smaller batch size for training batches helps the optimizer see more gradient noise,\n",
    "#improving generalization\n",
    "#in validation, we aren't updating any weights so higher batch size means faster evaluation\n",
    "#in addition, we shuffle the training set so the model doesn't overfit to the order in the data\n",
    "#we set shuffling to false for validation loader as it provides no benefit \n",
    "\n",
    "train_loader = DataLoader(train_dataset, batch_size=512, shuffle=True)\n",
    "val_loader = DataLoader(val_dataset, batch_size=1024, shuffle=False)"
   ]
  },
  {
   "cell_type": "markdown",
   "id": "db29453c-ae44-4d8a-ab9d-c158fbefde00",
   "metadata": {},
   "source": [
    "## Model"
   ]
  },
  {
   "cell_type": "code",
   "execution_count": 121,
   "id": "13aeeda2-fbf9-45ff-9478-73f12d440de2",
   "metadata": {},
   "outputs": [],
   "source": [
    "import torch.nn as nn\n",
    "\n",
    "class CatEmbMLP(nn.Module):\n",
    "    #hidden=(128, 64) means first linear layer is 128 units and second linear layer is 64\n",
    "    def __init__(self, emb_dims, n_num, hidden = (256, 128, 64), p=0):\n",
    "        super().__init__()\n",
    "        #for each categorical column, build one embedding table\n",
    "        #v = vocab size (number of categories)\n",
    "        #d = embedding dimension (chosen earlier)\n",
    "        self.embs = nn.ModuleList([nn.Embedding(v, d) for (v, d) in emb_dims])\n",
    "        self.emb_drop = nn.Dropout(p)\n",
    "\n",
    "        #emb_dims is of shape (vocab_sizei, emb_dimi)\n",
    "        #the next line refers to the total embedding output size\n",
    "        #n_num is the amount of numerical columns\n",
    "        in_dim = sum(d for _, d in emb_dims) + n_num\n",
    "        layers = []\n",
    "        for h in hidden:\n",
    "            layers += [\n",
    "                nn.Linear(in_dim, h), \n",
    "                nn.BatchNorm1d(h),\n",
    "                nn.LeakyReLU(), \n",
    "                nn.Dropout(p)]\n",
    "            in_dim = h #reset the input dimensions \n",
    "        layers += [nn.Linear(in_dim, 1)] #binary logit\n",
    "        self.mlp = nn.Sequential(*layers)\n",
    "\n",
    "    #x_cat: categorical input tensor\n",
    "        #shape: (batch_size, n_cat_cols)\n",
    "        #dtype: torch.int64 (LongTensor)\n",
    "    #x_num: numeric input tensor\n",
    "        #shape: (batch_size, n_num_cols)\n",
    "        #dtype: torch.float32\n",
    "    def forward(self, x_cat, x_num):\n",
    "        #x_cat[:, i] = all IDs for column i in the batch --> shape (batch_size,)\n",
    "        #emb(x_cat[:, i]) = look up each IDs embedding vector --> shape (batch_size, emb_dim_i)\n",
    "        #emb_list collects these embeddings in a list \n",
    "        emb_list = [emb(x_cat[:, i]) for i, emb in enumerate(self.embs)]\n",
    "        #join the embedding vectors side by side --> (batch_size, sum_of_all_emb_dims)\n",
    "        x = torch.cat(emb_list, dim=1)\n",
    "        #applying dropout for regularization, preventing overfitting to rare cetegories\n",
    "        x = self.emb_drop(x)\n",
    "        #join with numeric features, shape (batch_size, sum_emb_dims + n_num) as defined in __init__\n",
    "        x = torch.cat([x, x_num], dim=1)\n",
    "        #forward pass through the mlp\n",
    "        return self.mlp(x)\n",
    "\n",
    "#seeing if we can take advantage of Apple Silicon GPU \n",
    "device = torch.device(\"mps\" if torch.backends.mps.is_available() else \"cpu\")\n",
    "n_num = X_train_scaled.shape[1]\n",
    "model = CatEmbMLP(emb_dims, n_num, hidden=(128, 64), p=0.1).to(device)"
   ]
  },
  {
   "cell_type": "markdown",
   "id": "c2b2222d-6eef-41a8-896a-1248eda8ea7a",
   "metadata": {},
   "source": [
    "## Training Loop"
   ]
  },
  {
   "cell_type": "markdown",
   "id": "0ca36fbf-16da-4eb5-89e2-4d9d9aadc988",
   "metadata": {},
   "source": [
    "### Improvements. \n",
    "\n",
    "**Run 1**\n",
    "Epoch 001 | train 0.3054 | val 0.3064 | acc 0.861 | auc 0.916 | lr 2.0e-04\n",
    "Epoch 002 | train 0.3034 | val 0.3067 | acc 0.861 | auc 0.916 | lr 2.0e-04\n",
    "Epoch 003 | train 0.3048 | val 0.3070 | acc 0.860 | auc 0.915 | lr 2.0e-04\n",
    "Epoch 004 | train 0.3039 | val 0.3071 | acc 0.860 | auc 0.915 | lr 2.0e-04\n",
    "Epoch 005 | train 0.3039 | val 0.3073 | acc 0.860 | auc 0.915 | lr 1.0e-04\n",
    "Epoch 006 | train 0.3034 | val 0.3073 | acc 0.860 | auc 0.915 | lr 1.0e-04\n",
    "Epoch 007 | train 0.3038 | val 0.3073 | acc 0.860 | auc 0.915 | lr 1.0e-04\n",
    "Epoch 008 | train 0.3027 | val 0.3074 | acc 0.859 | auc 0.915 | lr 1.0e-04\n",
    "Epoch 009 | train 0.3022 | val 0.3074 | acc 0.860 | auc 0.915 | lr 5.0e-05\n",
    "Epoch 010 | train 0.3024 | val 0.3074 | acc 0.860 | auc 0.915 | lr 5.0e-05\n",
    "Epoch 011 | train 0.3028 | val 0.3075 | acc 0.859 | auc 0.915 | lr 5.0e-05\n",
    "Early stopping at epoch 11 (best val loss: 0.3064)\n",
    "Loaded best model (val loss = 0.3064 )\n",
    "\n",
    "- it seems that train accuracy ~= val accuracy, but since they increase very little over epochs it seems like the model isn't learning very much \n",
    "- To compare, we could run XGBoost.\n",
    "\n",
    "**Run 2**\n",
    "Here, I will try variance depth and width of the neural network while implementing regularization "
   ]
  },
  {
   "cell_type": "code",
   "execution_count": 122,
   "id": "2a848191-13de-47cc-ba9d-187ca41134ec",
   "metadata": {},
   "outputs": [
    {
     "name": "stdout",
     "output_type": "stream",
     "text": [
      "Epoch 001 | train loss 0.4716 | val loss 0.4337 | acc 0.774 | auc 0.870 | lr 2.0e-04\n",
      "Epoch 002 | train loss 0.3680 | val loss 0.3918 | acc 0.806 | auc 0.885 | lr 2.0e-04\n",
      "Epoch 003 | train loss 0.3450 | val loss 0.3760 | acc 0.820 | auc 0.892 | lr 2.0e-04\n",
      "Epoch 004 | train loss 0.3346 | val loss 0.3818 | acc 0.818 | auc 0.895 | lr 2.0e-04\n",
      "Epoch 005 | train loss 0.3285 | val loss 0.3797 | acc 0.821 | auc 0.897 | lr 2.0e-04\n",
      "Epoch 006 | train loss 0.3230 | val loss 0.3748 | acc 0.825 | auc 0.899 | lr 2.0e-04\n",
      "Epoch 007 | train loss 0.3186 | val loss 0.3691 | acc 0.829 | auc 0.901 | lr 2.0e-04\n",
      "Epoch 008 | train loss 0.3153 | val loss 0.3597 | acc 0.830 | auc 0.904 | lr 2.0e-04\n",
      "Epoch 009 | train loss 0.3101 | val loss 0.3776 | acc 0.822 | auc 0.903 | lr 2.0e-04\n",
      "Epoch 010 | train loss 0.3067 | val loss 0.3683 | acc 0.826 | auc 0.906 | lr 2.0e-04\n",
      "Epoch 011 | train loss 0.3044 | val loss 0.3597 | acc 0.831 | auc 0.906 | lr 2.0e-04\n",
      "Epoch 012 | train loss 0.3028 | val loss 0.3624 | acc 0.830 | auc 0.907 | lr 2.0e-05\n",
      "Epoch 013 | train loss 0.2999 | val loss 0.3510 | acc 0.836 | auc 0.907 | lr 2.0e-05\n",
      "Epoch 014 | train loss 0.3003 | val loss 0.3542 | acc 0.833 | auc 0.907 | lr 2.0e-05\n",
      "Epoch 015 | train loss 0.2986 | val loss 0.3733 | acc 0.825 | auc 0.907 | lr 2.0e-05\n",
      "Epoch 016 | train loss 0.2977 | val loss 0.3577 | acc 0.833 | auc 0.908 | lr 2.0e-05\n",
      "Epoch 017 | train loss 0.2990 | val loss 0.3574 | acc 0.833 | auc 0.908 | lr 1.0e-05\n",
      "Epoch 018 | train loss 0.2979 | val loss 0.3660 | acc 0.829 | auc 0.908 | lr 1.0e-05\n",
      "Epoch 019 | train loss 0.2983 | val loss 0.3543 | acc 0.835 | auc 0.908 | lr 1.0e-05\n",
      "Epoch 020 | train loss 0.2986 | val loss 0.3685 | acc 0.829 | auc 0.908 | lr 1.0e-05\n",
      "Epoch 021 | train loss 0.2982 | val loss 0.3603 | acc 0.832 | auc 0.908 | lr 1.0e-05\n",
      "Epoch 022 | train loss 0.2988 | val loss 0.3582 | acc 0.832 | auc 0.908 | lr 1.0e-05\n",
      "Epoch 023 | train loss 0.2980 | val loss 0.3641 | acc 0.829 | auc 0.908 | lr 1.0e-05\n",
      "Early stopping at epoch 23 (best val loss: 0.3510)\n",
      "Loaded best model (val loss = 0.3510 )\n"
     ]
    }
   ],
   "source": [
    "import torch\n",
    "from torch import nn\n",
    "from sklearn.metrics import roc_auc_score, accuracy_score\n",
    "import numpy as np\n",
    "\n",
    "#I had problems using mps so switched to cpu. \n",
    "device = torch.device(\"cpu\")\n",
    "\n",
    "model = model.to(device)\n",
    "\n",
    "# Loss, Optimizer, Scheduler \n",
    "criterion = nn.BCEWithLogitsLoss() #binary cross entropy\n",
    "optimizer = torch.optim.AdamW(model.parameters(), lr=2e-4, weight_decay=1e-4)\n",
    "\n",
    "#if a metric (validation loss below) doesn't improve after 3 epochs, reduce learning rate\n",
    "scheduler = torch.optim.lr_scheduler.ReduceLROnPlateau(\n",
    "    optimizer, mode=\"min\", factor=0.1, patience=3, min_lr=1e-5\n",
    ")\n",
    "\n",
    "# One training epoch\n",
    "def train_one_epoch(model, loader, optimizer, criterion, device):\n",
    "    model.train() #in PyTorch there is train and eval modes \n",
    "    total_loss, total_n = 0.0, 0\n",
    "    for x_cat, x_num, yb in loader:\n",
    "        #PyTorch tensors must live on the same device as the model to interact\n",
    "        #non_blocking isn't really relevant unless using GPU\n",
    "        x_cat = x_cat.to(device, non_blocking=True)\n",
    "        x_num = x_num.to(device, non_blocking=True)\n",
    "        yb    = yb.to(device, non_blocking=True) #shape (batch_size, 1)\n",
    "\n",
    "        logits = model(x_cat, x_num) #calls the forward function of the model           \n",
    "        loss = criterion(logits, yb) #computing loss\n",
    "\n",
    "        #clears old gradients from previous step (PyTorch accumulates gradients)\n",
    "        optimizer.zero_grad(set_to_none=True)\n",
    "        #PyTorch computes gradient of loss w respect to each parameter by applying\n",
    "        #the chain rule through the computation graph\n",
    "        #every parameter at the end has a .grad tensor attached\n",
    "        loss.backward()\n",
    "        #rescales the gradients if their norm exceeds 1.0 preventing exploding gradients\n",
    "        nn.utils.clip_grad_norm_(model.parameters(), 1.0)\n",
    "        #optimizer updates the parameters using the stored .grad rules\n",
    "        #for adamw, this means it does adaptive learning rate calculation + weight decay\n",
    "        # + correction before applying the update\n",
    "        optimizer.step()\n",
    "\n",
    "        batch_size = yb.size(0) #gives number of rows \n",
    "        total_loss += loss.item() * batch_size #sum of losses per batch\n",
    "        total_n += batch_size\n",
    "    return total_loss / total_n #epoch wide mean loss \n",
    "\n",
    "# Validation pass \n",
    "@torch.no_grad()\n",
    "def evaluate(model, loader, criterion, device):\n",
    "    model.eval() #put the model in eval mode \n",
    "    total_loss, total_n = 0.0, 0\n",
    "    all_probs, all_targets = [], []\n",
    "\n",
    "    for x_cat, x_num, yb in loader:\n",
    "        x_cat = x_cat.to(device, non_blocking=True)\n",
    "        x_num = x_num.to(device, non_blocking=True)\n",
    "        yb    = yb.to(device, non_blocking=True)\n",
    "\n",
    "        logits = model(x_cat, x_num)\n",
    "        loss = criterion(logits, yb)\n",
    "\n",
    "        bs = yb.size(0)\n",
    "        total_loss += loss.item() * bs\n",
    "        total_n += bs\n",
    "\n",
    "        #converts to probabilities, moves off gpu if using it, and converts to numpy array\n",
    "        #for scikit-learn metrics \n",
    "        probs = torch.sigmoid(logits).squeeze(1).cpu().numpy()\n",
    "        targets = yb.squeeze(1).cpu().numpy() #makes it (batch_size,)\n",
    "        all_probs.append(probs)\n",
    "        all_targets.append(targets)\n",
    "\n",
    "    import numpy as np\n",
    "    all_probs   = np.concatenate(all_probs, axis=0).reshape(-1)     # 1-D\n",
    "    all_targets = np.concatenate(all_targets, axis=0).reshape(-1)   # 1-D\n",
    "\n",
    "    # (optional) mask out any non-finite values, just in case\n",
    "    m = np.isfinite(all_probs) & np.isfinite(all_targets)\n",
    "    all_probs, all_targets = all_probs[m], all_targets[m]\n",
    "\n",
    "    # preds as integers (0/1)\n",
    "    preds = (all_probs >= 0.5).astype(np.int32)\n",
    "\n",
    "    from sklearn.metrics import accuracy_score, roc_auc_score\n",
    "    acc = accuracy_score(all_targets, preds)\n",
    "\n",
    "    # auc only if both classes present\n",
    "    if np.unique(all_targets).size > 1:\n",
    "        auc = roc_auc_score(all_targets, all_probs)\n",
    "    else:\n",
    "        auc = float(\"nan\")\n",
    "\n",
    "    return (total_loss / total_n), acc, auc\n",
    "\n",
    "# Training loop with early stopping \n",
    "EPOCHS    = 200            \n",
    "PATIENCE  = 10             \n",
    "MIN_DELTA = 1e-4        \n",
    "\n",
    "best_val = float(\"inf\")\n",
    "patience_ctr = 0\n",
    "best_state = None\n",
    "\n",
    "for epoch in range(1, EPOCHS + 1):\n",
    "    tr_loss = train_one_epoch(model, train_loader, optimizer, criterion, device)\n",
    "    va_loss, va_acc, va_auc = evaluate(model, val_loader, criterion, device)\n",
    "\n",
    "    #step scheduler on val loss\n",
    "    scheduler.step(va_loss)\n",
    "\n",
    "    print(f\"Epoch {epoch:03d} | \"\n",
    "          f\"train loss {tr_loss:.4f} | val loss {va_loss:.4f} | acc {va_acc:.3f} | auc {va_auc:.3f} | \"\n",
    "          f\"lr {optimizer.param_groups[0]['lr']:.1e}\")\n",
    "\n",
    "    # Early stopping\n",
    "    if va_loss < best_val - MIN_DELTA:\n",
    "        best_val = va_loss\n",
    "        best_state = {k: v.detach().cpu().clone() for k, v in model.state_dict().items()}\n",
    "        patience_ctr = 0\n",
    "    else:\n",
    "        patience_ctr += 1\n",
    "        if patience_ctr >= PATIENCE:\n",
    "            print(f\"Early stopping at epoch {epoch} (best val loss: {best_val:.4f})\")\n",
    "            break\n",
    "\n",
    "# restoring best weights \n",
    "if best_state is not None:\n",
    "    model.load_state_dict(best_state)\n",
    "    model.to(device)\n",
    "    print(\"Loaded best model (val loss =\", f\"{best_val:.4f}\", \")\")"
   ]
  },
  {
   "cell_type": "markdown",
   "id": "39608f36-b6bd-41bc-b9ac-71052b74b7c0",
   "metadata": {},
   "source": [
    "## XGBoost Comparison"
   ]
  },
  {
   "cell_type": "code",
   "execution_count": 123,
   "id": "55f3b3a5-596b-4956-96b4-09e7414d6598",
   "metadata": {},
   "outputs": [
    {
     "name": "stdout",
     "output_type": "stream",
     "text": [
      "AUC: 0.924  ACC: 0.863  Best trees: 554\n"
     ]
    }
   ],
   "source": [
    "import xgboost as xgb\n",
    "from xgboost.callback import EarlyStopping\n",
    "import numpy as np\n",
    "import pandas as pd\n",
    "from sklearn.metrics import roc_auc_score, accuracy_score\n",
    "\n",
    "X_train_xgb = X_train.copy()\n",
    "X_val_xgb = X_val.copy()\n",
    "\n",
    "for categorical in cat_cols:\n",
    "    X_train_xgb[categorical] = X_train_xgb[categorical].astype(\"category\")\n",
    "    X_val_xgb[categorical] = pd.Categorical(X_val_xgb[categorical], categories=X_train_xgb[categorical].cat.categories)\n",
    "\n",
    "#Building DMatrices with native categorical support\n",
    "dtrain = xgb.DMatrix(X_train_xgb, label=y_train, enable_categorical=True)\n",
    "dval   = xgb.DMatrix(X_val_xgb,   label=y_val,   enable_categorical=True)\n",
    "\n",
    "#Params \n",
    "params = {\n",
    "    \"objective\": \"binary:logistic\",\n",
    "    \"eval_metric\": \"logloss\",    \n",
    "    \"max_depth\": 6,\n",
    "    \"eta\": 0.03,              \n",
    "    \"subsample\": 0.8,\n",
    "    \"colsample_bytree\": 0.8,\n",
    "    \"lambda\": 1.0,            \n",
    "    \"alpha\": 0.0,              \n",
    "    \"tree_method\": \"hist\",\n",
    "    \"verbosity\": 0,\n",
    "    \"seed\": 42,\n",
    "}\n",
    "\n",
    "#Train with early stopping on validation\n",
    "evals = [(dval, \"val\")]\n",
    "bst = xgb.train(\n",
    "    params=params,\n",
    "    dtrain=dtrain,\n",
    "    num_boost_round=2000,\n",
    "    evals=evals,\n",
    "    early_stopping_rounds=50,   \n",
    "    verbose_eval=False,\n",
    ")\n",
    "\n",
    "#Evaluate\n",
    "probs = bst.predict(dval)   # probabilities for positive class\n",
    "preds = (probs >= 0.5).astype(int)\n",
    "\n",
    "auc = roc_auc_score(y_val, probs)\n",
    "acc = accuracy_score(y_val, preds)\n",
    "\n",
    "print(f\"AUC: {auc:.3f}  ACC: {acc:.3f}  Best trees: {bst.best_iteration}\")"
   ]
  },
  {
   "cell_type": "markdown",
   "id": "a6fc1c29-fd35-44c4-8e1c-aefe2de180d3",
   "metadata": {},
   "source": [
    "# Fine Tuning"
   ]
  },
  {
   "cell_type": "code",
   "execution_count": 124,
   "id": "c06eb175-6dc4-4f25-bb27-5b83ed6e4827",
   "metadata": {},
   "outputs": [
    {
     "name": "stderr",
     "output_type": "stream",
     "text": [
      "[I 2025-08-21 18:21:18,100] A new study created in memory with name: no-name-430670de-798a-48bc-99f6-32632d3d5555\n"
     ]
    },
    {
     "data": {
      "application/vnd.jupyter.widget-view+json": {
       "model_id": "df86b07a51c240ae94a5a12ffc700052",
       "version_major": 2,
       "version_minor": 0
      },
      "text/plain": [
       "  0%|          | 0/20 [00:00<?, ?it/s]"
      ]
     },
     "metadata": {},
     "output_type": "display_data"
    },
    {
     "name": "stdout",
     "output_type": "stream",
     "text": [
      "[I 2025-08-21 18:21:35,008] Trial 0 finished with value: 0.3391857347216904 and parameters: {'batch_size': 512, 'emb_dim_scale': 1.0493292420985183, 'n_layers': 2, 'width0': 512, 'width1': 512, 'activation': 'ReLU', 'use_bn': True, 'use_residuals': False, 'dropout_mlp': 0.14561457009902096, 'dropout_emb': 0.18355586841671384, 'optimizer': 'RMSprop', 'lr': 0.000471705203762518, 'weight_decay_mlp': 0.00013157287601765622, 'weight_decay_emb': 3.972110727381914e-07, 'adam_beta2': 0.975197487482267, 'adam_eps': 1.530485212183145e-07, 'lr_factor': 0.3185801650879991, 'lr_patience': 5, 'clip_norm': 0.7557861855309373, 'label_smoothing': 0.006505159298527952}. Best is trial 0 with value: 0.3391857347216904.\n",
      "[I 2025-08-21 18:21:46,242] Trial 1 finished with value: 0.3750989629360376 and parameters: {'batch_size': 512, 'emb_dim_scale': 0.9023068845866853, 'n_layers': 2, 'width0': 128, 'width1': 256, 'activation': 'ReLU', 'use_bn': False, 'use_residuals': False, 'dropout_mlp': 0.46974947078209456, 'dropout_emb': 0.26844820512829465, 'optimizer': 'Adam', 'lr': 0.0001947558230629544, 'weight_decay_mlp': 1.3245461546001878e-06, 'weight_decay_emb': 9.462175356461477e-07, 'adam_beta2': 0.9690451871947846, 'adam_eps': 3.4889766548903616e-08, 'lr_factor': 0.6314950036607717, 'lr_patience': 3, 'clip_norm': 0.9214017645310711, 'label_smoothing': 0.05426960831582485}. Best is trial 0 with value: 0.3391857347216904.\n",
      "[I 2025-08-21 18:22:10,869] Trial 2 finished with value: 0.3271375468351882 and parameters: {'batch_size': 512, 'emb_dim_scale': 1.2434434683002586, 'n_layers': 5, 'width0': 512, 'width1': 256, 'width2': 256, 'width3': 64, 'width4': 256, 'activation': 'GELU', 'use_bn': True, 'use_residuals': True, 'dropout_mlp': 0.21377050917927481, 'dropout_emb': 0.007625738023228556, 'optimizer': 'RMSprop', 'lr': 0.0002913009501549591, 'weight_decay_mlp': 2.3583976885932147e-05, 'weight_decay_emb': 5.280796376895367e-05, 'adam_beta2': 0.9622153192282948, 'adam_eps': 6.618595597183464e-08, 'lr_factor': 0.6022204554172195, 'lr_patience': 3, 'clip_norm': 0.6154698647431895, 'label_smoothing': 0.028975145291376805}. Best is trial 2 with value: 0.3271375468351882.\n",
      "[I 2025-08-21 18:22:34,322] Trial 3 finished with value: 0.3636002306980346 and parameters: {'batch_size': 512, 'emb_dim_scale': 1.0667018782552118, 'n_layers': 6, 'width0': 512, 'width1': 256, 'width2': 512, 'width3': 64, 'width4': 512, 'width5': 256, 'activation': 'ReLU', 'use_bn': False, 'use_residuals': False, 'dropout_mlp': 0.3047821669899484, 'dropout_emb': 0.15080370696865844, 'optimizer': 'RMSprop', 'lr': 0.00022587177280197245, 'weight_decay_mlp': 2.460746712417507e-06, 'weight_decay_emb': 2.940074130903305e-06, 'adam_beta2': 0.9982968722514194, 'adam_eps': 3.048670883458062e-08, 'lr_factor': 0.5688542189623513, 'lr_patience': 5, 'clip_norm': 0.8564563159885995, 'label_smoothing': 0.07282163486118597}. Best is trial 2 with value: 0.3271375468351882.\n",
      "[I 2025-08-21 18:22:45,907] Trial 4 finished with value: 0.36365004423377656 and parameters: {'batch_size': 1024, 'emb_dim_scale': 1.0178873420373793, 'n_layers': 2, 'width0': 128, 'width1': 256, 'activation': 'GELU', 'use_bn': True, 'use_residuals': True, 'dropout_mlp': 0.06876047207299663, 'dropout_emb': 0.10231990531507755, 'optimizer': 'Adam', 'lr': 0.00024044240360019065, 'weight_decay_mlp': 6.043341601953103e-05, 'weight_decay_emb': 2.82921922553619e-05, 'adam_beta2': 0.9772048397683736, 'adam_eps': 1.1463075602213988e-07, 'lr_factor': 0.39674091636018066, 'lr_patience': 2, 'clip_norm': 1.84582363692999, 'label_smoothing': 0.09004180571633305}. Best is trial 2 with value: 0.3271375468351882.\n",
      "[I 2025-08-21 18:22:53,370] Trial 5 pruned. \n",
      "[I 2025-08-21 18:23:17,293] Trial 6 finished with value: 0.32264507100224954 and parameters: {'batch_size': 256, 'emb_dim_scale': 1.2141592812938626, 'n_layers': 4, 'width0': 128, 'width1': 256, 'width2': 256, 'width3': 512, 'activation': 'GELU', 'use_bn': False, 'use_residuals': False, 'dropout_mlp': 0.14679592213224668, 'dropout_emb': 0.24280834664355408, 'optimizer': 'RMSprop', 'lr': 0.0005692653182584713, 'weight_decay_mlp': 2.2572384321973304e-05, 'weight_decay_emb': 2.482478734421257e-05, 'adam_beta2': 0.9818482326081105, 'adam_eps': 2.5347419619497627e-07, 'lr_factor': 0.6183170677744404, 'lr_patience': 6, 'clip_norm': 1.0069927352773038, 'label_smoothing': 0.0375582952639944}. Best is trial 6 with value: 0.32264507100224954.\n",
      "[I 2025-08-21 18:23:35,905] Trial 7 finished with value: 0.3304498328926683 and parameters: {'batch_size': 512, 'emb_dim_scale': 0.9827990090662301, 'n_layers': 4, 'width0': 256, 'width1': 128, 'width2': 128, 'width3': 512, 'activation': 'GELU', 'use_bn': False, 'use_residuals': False, 'dropout_mlp': 0.21948571035281805, 'dropout_emb': 0.023536914402679788, 'optimizer': 'Adam', 'lr': 0.001066690169153495, 'weight_decay_mlp': 1.2698479732927761e-05, 'weight_decay_emb': 3.310418956324512e-07, 'adam_beta2': 0.9576654150908832, 'adam_eps': 3.1658169231879685e-08, 'lr_factor': 0.5196906658824482, 'lr_patience': 5, 'clip_norm': 1.4902960650765968, 'label_smoothing': 0.027993389694594285}. Best is trial 6 with value: 0.32264507100224954.\n",
      "[I 2025-08-21 18:23:41,112] Trial 8 pruned. \n",
      "[I 2025-08-21 18:23:54,970] Trial 9 finished with value: 0.32016617787879365 and parameters: {'batch_size': 512, 'emb_dim_scale': 0.8478955673946482, 'n_layers': 2, 'width0': 128, 'width1': 512, 'activation': 'LeakyReLU', 'leaky_slope': 0.03245131724811469, 'use_bn': False, 'use_residuals': False, 'dropout_mlp': 0.4017404651924243, 'dropout_emb': 0.08461037177139194, 'optimizer': 'RMSprop', 'lr': 0.0029046659796387346, 'weight_decay_mlp': 1.2991004501022528e-05, 'weight_decay_emb': 1.3063340811682283e-06, 'adam_beta2': 0.9880442350763579, 'adam_eps': 4.804045151253041e-08, 'lr_factor': 0.6723029302414258, 'lr_patience': 6, 'clip_norm': 1.1434910410625276, 'label_smoothing': 0.07508710677914975}. Best is trial 9 with value: 0.32016617787879365.\n",
      "[I 2025-08-21 18:24:11,354] Trial 10 finished with value: 0.33103240096417497 and parameters: {'batch_size': 1024, 'emb_dim_scale': 0.7529985914779085, 'n_layers': 3, 'width0': 256, 'width1': 512, 'width2': 512, 'activation': 'LeakyReLU', 'leaky_slope': 0.020798074567397615, 'use_bn': False, 'use_residuals': True, 'dropout_mlp': 0.33912689987562616, 'dropout_emb': 0.07767318985447431, 'optimizer': 'AdamW', 'lr': 0.002918893257204828, 'weight_decay_mlp': 0.00041201399887218177, 'weight_decay_emb': 1.326872183795527e-07, 'adam_beta2': 0.9923917248716531, 'adam_eps': 9.352172523875068e-07, 'lr_factor': 0.6753238030441346, 'lr_patience': 6, 'clip_norm': 1.5480097086745035, 'label_smoothing': 0.06856136739038807}. Best is trial 9 with value: 0.32016617787879365.\n",
      "[I 2025-08-21 18:24:24,408] Trial 11 finished with value: 0.3186073160388972 and parameters: {'batch_size': 256, 'emb_dim_scale': 0.7931844609096352, 'n_layers': 3, 'width0': 128, 'width1': 64, 'width2': 256, 'activation': 'LeakyReLU', 'leaky_slope': 0.06134899459505459, 'use_bn': False, 'use_residuals': False, 'dropout_mlp': 0.012774747405271625, 'dropout_emb': 0.29880678479774386, 'optimizer': 'RMSprop', 'lr': 0.0029802850074114387, 'weight_decay_mlp': 8.877356592915088e-06, 'weight_decay_emb': 6.801192985672223e-06, 'adam_beta2': 0.987191395192289, 'adam_eps': 3.498109413988023e-07, 'lr_factor': 0.6997379725702203, 'lr_patience': 6, 'clip_norm': 1.0667501066902456, 'label_smoothing': 0.040811012506602594}. Best is trial 11 with value: 0.3186073160388972.\n",
      "[I 2025-08-21 18:24:35,976] Trial 12 finished with value: 0.32752238908415016 and parameters: {'batch_size': 256, 'emb_dim_scale': 0.7727831253160888, 'n_layers': 3, 'width0': 128, 'width1': 64, 'width2': 128, 'activation': 'LeakyReLU', 'leaky_slope': 0.052914441662606865, 'use_bn': False, 'use_residuals': False, 'dropout_mlp': 0.0023700598265445905, 'dropout_emb': 0.08251219104371528, 'optimizer': 'RMSprop', 'lr': 0.002799346554846427, 'weight_decay_mlp': 7.677548073804634e-06, 'weight_decay_emb': 5.380808322182501e-06, 'adam_beta2': 0.9859812270929754, 'adam_eps': 4.7080070657464216e-07, 'lr_factor': 0.6657899518906151, 'lr_patience': 6, 'clip_norm': 1.1543092565555528, 'label_smoothing': 0.05628239839186713}. Best is trial 11 with value: 0.3186073160388972.\n",
      "[I 2025-08-21 18:24:47,603] Trial 13 finished with value: 0.3200147238438007 and parameters: {'batch_size': 256, 'emb_dim_scale': 0.872058481623921, 'n_layers': 3, 'width0': 128, 'width1': 64, 'width2': 64, 'activation': 'LeakyReLU', 'leaky_slope': 0.10576012515566925, 'use_bn': False, 'use_residuals': False, 'dropout_mlp': 0.3597303515123649, 'dropout_emb': 0.2828143471413368, 'optimizer': 'RMSprop', 'lr': 0.001602993940959111, 'weight_decay_mlp': 7.539513892706761e-06, 'weight_decay_emb': 2.913166731860168e-06, 'adam_beta2': 0.9881919819132722, 'adam_eps': 3.9324079939477853e-07, 'lr_factor': 0.6973815210564831, 'lr_patience': 6, 'clip_norm': 1.190120219140787, 'label_smoothing': 0.07226414626376901}. Best is trial 11 with value: 0.3186073160388972.\n",
      "[I 2025-08-21 18:24:58,671] Trial 14 finished with value: 0.32102387738267385 and parameters: {'batch_size': 256, 'emb_dim_scale': 0.8739466182042798, 'n_layers': 3, 'width0': 128, 'width1': 64, 'width2': 64, 'activation': 'LeakyReLU', 'leaky_slope': 0.14015205585857657, 'use_bn': False, 'use_residuals': True, 'dropout_mlp': 0.3200058068194079, 'dropout_emb': 0.2955635755836858, 'optimizer': 'RMSprop', 'lr': 0.0014576267150884531, 'weight_decay_mlp': 5.361553261493253e-06, 'weight_decay_emb': 6.1535542519487455e-06, 'adam_beta2': 0.9979324538877135, 'adam_eps': 3.408537034450418e-07, 'lr_factor': 0.45265976463912544, 'lr_patience': 5, 'clip_norm': 1.406081305147177, 'label_smoothing': 0.045563433875952145}. Best is trial 11 with value: 0.3186073160388972.\n",
      "[I 2025-08-21 18:25:09,775] Trial 15 finished with value: 0.3217204592220028 and parameters: {'batch_size': 256, 'emb_dim_scale': 0.8200825321921568, 'n_layers': 3, 'width0': 128, 'width1': 64, 'width2': 64, 'activation': 'LeakyReLU', 'leaky_slope': 0.10811848942523827, 'use_bn': False, 'use_residuals': False, 'dropout_mlp': 0.009156099045255828, 'dropout_emb': 0.2386784961952167, 'optimizer': 'AdamW', 'lr': 0.0016134141918503406, 'weight_decay_mlp': 1.0935754677596584e-06, 'weight_decay_emb': 2.1808146127063645e-06, 'adam_beta2': 0.9511208442331579, 'adam_eps': 8.201450411034137e-07, 'lr_factor': 0.6871013003751493, 'lr_patience': 4, 'clip_norm': 1.63156663178608, 'label_smoothing': 0.00868160541378047}. Best is trial 11 with value: 0.3186073160388972.\n",
      "[I 2025-08-21 18:25:25,939] Trial 16 pruned. \n",
      "[I 2025-08-21 18:25:36,709] Trial 17 finished with value: 0.31864342805164964 and parameters: {'batch_size': 256, 'emb_dim_scale': 0.808511203541344, 'n_layers': 3, 'width0': 128, 'width1': 64, 'width2': 64, 'activation': 'LeakyReLU', 'leaky_slope': 0.18423319420685402, 'use_bn': False, 'use_residuals': False, 'dropout_mlp': 0.2709830559780355, 'dropout_emb': 0.22733719923425214, 'optimizer': 'RMSprop', 'lr': 0.0017643783098559257, 'weight_decay_mlp': 8.338924105527668e-05, 'weight_decay_emb': 1.039660914530597e-06, 'adam_beta2': 0.9925710974974884, 'adam_eps': 1.9160390278476656e-07, 'lr_factor': 0.6969262187414036, 'lr_patience': 5, 'clip_norm': 0.5141936511083818, 'label_smoothing': 0.019646269643510763}. Best is trial 11 with value: 0.3186073160388972.\n",
      "[I 2025-08-21 18:25:51,263] Trial 18 finished with value: 0.32230574363763326 and parameters: {'batch_size': 1024, 'emb_dim_scale': 0.8035538023824018, 'n_layers': 5, 'width0': 128, 'width1': 64, 'width2': 64, 'width3': 256, 'width4': 64, 'activation': 'LeakyReLU', 'leaky_slope': 0.1789032962092723, 'use_bn': True, 'use_residuals': True, 'dropout_mlp': 0.26725434530698183, 'dropout_emb': 0.23518706517013133, 'optimizer': 'AdamW', 'lr': 0.001998203439037657, 'weight_decay_mlp': 0.00012754567219847482, 'weight_decay_emb': 5.460656641594569e-07, 'adam_beta2': 0.9926146433777914, 'adam_eps': 2.2513684623554608e-07, 'lr_factor': 0.6276959258612431, 'lr_patience': 5, 'clip_norm': 0.5333971849715926, 'label_smoothing': 0.01799337432818709}. Best is trial 11 with value: 0.3186073160388972.\n",
      "[I 2025-08-21 18:26:06,116] Trial 19 finished with value: 0.3231919717235154 and parameters: {'batch_size': 256, 'emb_dim_scale': 0.9242516479099356, 'n_layers': 3, 'width0': 256, 'width1': 64, 'width2': 256, 'activation': 'LeakyReLU', 'leaky_slope': 0.19754603480251415, 'use_bn': False, 'use_residuals': False, 'dropout_mlp': 0.15375288901364884, 'dropout_emb': 0.21075504449941537, 'optimizer': 'Adam', 'lr': 0.0008487091671513342, 'weight_decay_mlp': 0.00041707103807654407, 'weight_decay_emb': 1.1632539728790175e-07, 'adam_beta2': 0.983228219382891, 'adam_eps': 1.636413376570751e-07, 'lr_factor': 0.33872924374846647, 'lr_patience': 4, 'clip_norm': 0.6758588441491882, 'label_smoothing': 0.01972660486553757}. Best is trial 11 with value: 0.3186073160388972.\n",
      "Best value (val loss): 0.3186073160388972\n",
      "Best params: {'batch_size': 256, 'emb_dim_scale': 0.7931844609096352, 'n_layers': 3, 'width0': 128, 'width1': 64, 'width2': 256, 'activation': 'LeakyReLU', 'leaky_slope': 0.06134899459505459, 'use_bn': False, 'use_residuals': False, 'dropout_mlp': 0.012774747405271625, 'dropout_emb': 0.29880678479774386, 'optimizer': 'RMSprop', 'lr': 0.0029802850074114387, 'weight_decay_mlp': 8.877356592915088e-06, 'weight_decay_emb': 6.801192985672223e-06, 'adam_beta2': 0.987191395192289, 'adam_eps': 3.498109413988023e-07, 'lr_factor': 0.6997379725702203, 'lr_patience': 6, 'clip_norm': 1.0667501066902456, 'label_smoothing': 0.040811012506602594}\n",
      "Best trial metrics: acc = 0.8532338308457711 auc = 0.9094859169700612\n"
     ]
    }
   ],
   "source": [
    "import numpy as np\n",
    "import torch\n",
    "import torch.nn as nn\n",
    "from torch.utils.data import DataLoader\n",
    "import optuna\n",
    "from optuna.samplers import TPESampler\n",
    "from optuna.pruners import MedianPruner\n",
    "from sklearn.metrics import accuracy_score, roc_auc_score\n",
    "\n",
    "def make_loaders(batch_size_train, batch_size_val=None):\n",
    "    if batch_size_val is None:\n",
    "        batch_size_val = max(1024, batch_size_train * 2)\n",
    "    train_loader = DataLoader(train_dataset, batch_size=batch_size_train, shuffle=True,  num_workers=0, pin_memory=False)\n",
    "    val_loader   = DataLoader(val_dataset,   batch_size=batch_size_val,   shuffle=False, num_workers=0, pin_memory=False)\n",
    "    return train_loader, val_loader\n",
    "\n",
    "def train_one_epoch_opt(model, loader, optimizer, criterion, device, clip_norm=1.0, label_smoothing=0.0):\n",
    "    model.train()\n",
    "    total, n = 0.0, 0\n",
    "    for x_cat, x_num, yb in loader:\n",
    "        x_cat = x_cat.to(device); x_num = x_num.to(device); yb = yb.to(device)\n",
    "        if label_smoothing > 0:\n",
    "            yb = yb * (1.0 - label_smoothing) + 0.5 * label_smoothing\n",
    "        logits = model(x_cat, x_num)\n",
    "        loss = criterion(logits, yb)\n",
    "        optimizer.zero_grad(set_to_none=True)\n",
    "        loss.backward()\n",
    "        nn.utils.clip_grad_norm_(model.parameters(), clip_norm)\n",
    "        optimizer.step()\n",
    "        bs = yb.size(0); total += loss.item() * bs; n += bs\n",
    "    return total / n\n",
    "\n",
    "@torch.no_grad()\n",
    "def eval_metrics(model, loader, criterion, device, threshold=0.5):\n",
    "    model.eval()\n",
    "    total, n = 0.0, 0\n",
    "    all_probs, all_targets = [], []\n",
    "    for x_cat, x_num, yb in loader:\n",
    "        x_cat = x_cat.to(device); x_num = x_num.to(device); yb = yb.to(device)\n",
    "        logits = model(x_cat, x_num)\n",
    "        loss = criterion(logits, yb)\n",
    "        bs = yb.size(0); total += loss.item() * bs; n += bs\n",
    "        probs = torch.sigmoid(logits).squeeze(1).cpu().numpy()\n",
    "        targets = yb.squeeze(1).cpu().numpy()\n",
    "        all_probs.append(probs); all_targets.append(targets)\n",
    "    loss = total / n\n",
    "    all_probs = np.concatenate(all_probs)\n",
    "    all_targets = np.concatenate(all_targets)\n",
    "    preds = (all_probs >= threshold).astype(np.int32)\n",
    "    acc = accuracy_score(all_targets, preds)\n",
    "    auc = roc_auc_score(all_targets, all_probs) if np.unique(all_targets).size > 1 else float(\"nan\")\n",
    "    return loss, acc, auc\n",
    "\n",
    "def build_model_from_trial(trial, emb_dims_base, n_num):\n",
    "    dim_scale = trial.suggest_float(\"emb_dim_scale\", 0.75, 1.25)\n",
    "    emb_dims = []\n",
    "    for (v, d) in emb_dims_base:\n",
    "        d2 = int(max(4, min(50, round(d * dim_scale))))\n",
    "        emb_dims.append((v, d2))\n",
    "    n_layers = trial.suggest_int(\"n_layers\", 2, 6)\n",
    "    width0 = trial.suggest_categorical(\"width0\", [128, 256, 512])\n",
    "    widths = [width0]\n",
    "    for i in range(1, n_layers):\n",
    "        widths.append(trial.suggest_categorical(f\"width{i}\", [64, 128, 256, 512]))\n",
    "    act_name = trial.suggest_categorical(\"activation\", [\"ReLU\", \"LeakyReLU\", \"GELU\"])\n",
    "    leaky_slope = trial.suggest_float(\"leaky_slope\", 0.01, 0.2) if act_name == \"LeakyReLU\" else 0.01\n",
    "    use_bn = trial.suggest_categorical(\"use_bn\", [False, True])\n",
    "    use_residual = trial.suggest_categorical(\"use_residuals\", [False, True])\n",
    "    p_mlp = trial.suggest_float(\"dropout_mlp\", 0.0, 0.5)\n",
    "    p_emb = trial.suggest_float(\"dropout_emb\", 0.0, 0.3)\n",
    "    model = CatEmbMLPOpt(emb_dims=emb_dims, n_num=n_num, hidden=tuple(widths),\n",
    "                         p_mlp=p_mlp, p_emb=p_emb, use_bn=use_bn,\n",
    "                         act_name=act_name, leaky_slope=leaky_slope,\n",
    "                         use_residuals=use_residual).to(\"cpu\")\n",
    "    return model\n",
    "\n",
    "def make_optimizer_from_trial(trial, model):\n",
    "    opt_name = trial.suggest_categorical(\"optimizer\", [\"AdamW\", \"Adam\", \"RMSprop\"])\n",
    "    lr = trial.suggest_float(\"lr\", 1e-4, 3e-3, log=True)\n",
    "    wd_mlp = trial.suggest_float(\"weight_decay_mlp\", 1e-6, 5e-4, log=True)\n",
    "    wd_emb = trial.suggest_float(\"weight_decay_emb\", 1e-7, 1e-4, log=True)\n",
    "    beta2 = trial.suggest_float(\"adam_beta2\", 0.95, 0.999)\n",
    "    eps = trial.suggest_float(\"adam_eps\", 1e-8, 1e-6, log=True)\n",
    "    emb_params, mlp_params = [], []\n",
    "    for name, p in model.named_parameters():\n",
    "        if not p.requires_grad: continue\n",
    "        (emb_params if name.startswith(\"embs.\") else mlp_params).append(p)\n",
    "    if opt_name == \"AdamW\":\n",
    "        optimizer = torch.optim.AdamW([{\"params\": emb_params, \"weight_decay\": wd_emb},\n",
    "                                       {\"params\": mlp_params, \"weight_decay\": wd_mlp}],\n",
    "                                       lr=lr, betas=(0.9, beta2), eps=eps)\n",
    "    elif opt_name == \"Adam\":\n",
    "        optimizer = torch.optim.Adam([{\"params\": emb_params, \"weight_decay\": wd_emb},\n",
    "                                      {\"params\": mlp_params, \"weight_decay\": wd_mlp}],\n",
    "                                      lr=lr, betas=(0.9, beta2), eps=eps)\n",
    "    else:\n",
    "        optimizer = torch.optim.RMSprop([{\"params\": emb_params, \"weight_decay\": wd_emb},\n",
    "                                         {\"params\": mlp_params, \"weight_decay\": wd_mlp}],\n",
    "                                         lr=lr, alpha=0.99, eps=eps)\n",
    "    return optimizer\n",
    "\n",
    "def make_scheduler_from_trial(trial, optimizer):\n",
    "    factor = trial.suggest_float(\"lr_factor\", 0.3, 0.7)\n",
    "    patience = trial.suggest_int(\"lr_patience\", 2, 6)\n",
    "    return torch.optim.lr_scheduler.ReduceLROnPlateau(optimizer, mode=\"min\", factor=factor, patience=patience, min_lr=1e-5)\n",
    "\n",
    "def objective(trial):\n",
    "    batch_size = trial.suggest_categorical(\"batch_size\", [256, 512, 1024])\n",
    "    train_loader, val_loader = make_loaders(batch_size)\n",
    "    model = build_model_from_trial(trial, emb_dims, n_num)\n",
    "    optimizer = make_optimizer_from_trial(trial, model)\n",
    "    criterion = nn.BCEWithLogitsLoss()\n",
    "    scheduler = make_scheduler_from_trial(trial, optimizer)\n",
    "    clip_norm = trial.suggest_float(\"clip_norm\", 0.5, 2.0)\n",
    "    label_smoothing = trial.suggest_float(\"label_smoothing\", 0.0, 0.1)\n",
    "\n",
    "    best_val = float(\"inf\")\n",
    "    best_acc, best_auc = 0.0, 0.0\n",
    "    EPOCHS = 25\n",
    "    for epoch in range(1, EPOCHS + 1):\n",
    "        _ = train_one_epoch_opt(model, train_loader, optimizer, criterion, device=\"cpu\",\n",
    "                                clip_norm=clip_norm, label_smoothing=label_smoothing)\n",
    "        va_loss, va_acc, va_auc = eval_metrics(model, val_loader, criterion, device=\"cpu\")\n",
    "        scheduler.step(va_loss)\n",
    "        trial.report(va_loss, step=epoch)\n",
    "        if trial.should_prune():\n",
    "            raise optuna.TrialPruned()\n",
    "        if va_loss < best_val:\n",
    "            best_val, best_acc, best_auc = va_loss, va_acc, va_auc\n",
    "\n",
    "    trial.set_user_attr(\"best_val_loss\", float(best_val))\n",
    "    trial.set_user_attr(\"best_acc\", float(best_acc))\n",
    "    trial.set_user_attr(\"best_auc\", float(best_auc))\n",
    "    return best_val\n",
    "\n",
    "study = optuna.create_study(direction=\"minimize\", sampler=TPESampler(seed=42), pruner=MedianPruner(n_startup_trials=5, n_warmup_steps=5))\n",
    "study.optimize(objective, n_trials=20, show_progress_bar=True)\n",
    "\n",
    "bt = study.best_trial\n",
    "print(\"Best value (val loss):\", study.best_value)\n",
    "print(\"Best params:\", bt.params)\n",
    "print(\"Best trial metrics: acc =\", bt.user_attrs.get(\"best_acc\"), \"auc =\", bt.user_attrs.get(\"best_auc\"))"
   ]
  },
  {
   "cell_type": "markdown",
   "id": "fb06494e-6a2d-498b-ad53-6fe5068da53c",
   "metadata": {},
   "source": [
    "# Error Analysis"
   ]
  },
  {
   "cell_type": "code",
   "execution_count": 127,
   "id": "62254aa4-6991-4bdc-94b9-4035497b0ef3",
   "metadata": {},
   "outputs": [
    {
     "data": {
      "text/plain": [
       "<sklearn.metrics._plot.confusion_matrix.ConfusionMatrixDisplay at 0x351f173b0>"
      ]
     },
     "execution_count": 127,
     "metadata": {},
     "output_type": "execute_result"
    },
    {
     "data": {
      "image/png": "[encoded data removed]",
      "text/plain": [
       "<Figure size 640x480 with 2 Axes>"
      ]
     },
     "metadata": {},
     "output_type": "display_data"
    }
   ],
   "source": [
    "from sklearn.metrics import confusion_matrix, ConfusionMatrixDisplay\n",
    "\n",
    "probs = torch.sigmoid(model(torch.tensor(X_val_categories, dtype=torch.long),\n",
    "                            torch.tensor(X_val_scaled, dtype=torch.float32))).detach().numpy().squeeze()\n",
    "preds = (probs >= 0.5).astype(int)\n",
    "\n",
    "cm = confusion_matrix(y_val, preds)\n",
    "disp = ConfusionMatrixDisplay(confusion_matrix=cm)\n",
    "disp.plot()\n",
    "                      "
   ]
  },
  {
   "cell_type": "markdown",
   "id": "1a357440-177b-4008-b55e-b84d4165e7c3",
   "metadata": {},
   "source": [
    "# Reflection\n",
    "\n",
    "This project went really well in terms of building a full end-to-end pipeline. I was able to set up preprocessing, a custom Dataset and DataLoader, the model, the loss and optimizer, a training loop with early stopping and a learning rate scheduler, and then track metrics properly. Along the way, I developed a much clearer mental model of key PyTorch concepts like logits vs. probabilities, why BCEWithLogitsLoss is preferred, the role of .train() and .eval(), device transfers, batch sizing, and how to aggregate batch metrics. I also handled categorical embeddings correctly, with per-column vocabularies and UNK handling, and built some debugging intuition by catching NaNs during initialization and tracing them back to Apple GPU issues. On top of that, I established a strong baseline by running XGBoost and comparing it to the neural network.\n",
    "\n",
    "What didn’t go so smoothly was that the validation loss plateaued at around 0.307, regardless of scheduler tweaks or learning rate changes. This turned out not to be a problem with optimization but more a sign of architectural capacity limits in the MLP. Using Apple’s MPS backend also caused NaN issues, which forced me back to CPU training for stability. I also leaned a little too quickly on Optuna, when in hindsight the flat validation curve indicated that I should have tried architectural changes or regularization adjustments first.\n",
    "\n",
    "The main lessons I’m taking away are that preprocessing must be done carefully to avoid leakage, embeddings help compress sparse categorical data into useful representations, and schedulers should always monitor validation performance, not just training. I also learned it’s often better to slightly over-parameterize a network and regularize it than to under-parameterize and cap performance. XGBoost slightly outperformed the neural network here, which is expected in tabular settings because trees are so good at capturing threshold-like interactions that MLPs miss without more advanced architectures.\n",
    "\n",
    "If I were to run this again, I would try a larger MLP with batch normalization and lighter dropout, experiment with more dynamic learning rate schedules like OneCycle, and consider using pos_weight in the loss if the classes are imbalanced. I’d also look at engineered interaction features to see if the neural net can learn from what boosts XGBoost. For a bigger leap, I’d try transformer-style tabular models like FT-Transformer and compare them against XGBoost on a larger dataset. Overall, the biggest win is that I now have a clean, reusable training loop, a dataset pipeline, a hyperparameter tuning scaffold, and a strong baseline comparison — all of which I can carry into my next project.\n"
   ]
  },
  {
   "cell_type": "code",
   "execution_count": null,
   "id": "84ce93de-2c0b-4d9c-b420-6476c35a2b9e",
   "metadata": {},
   "outputs": [],
   "source": []
  }
 ],
 "metadata": {
  "kernelspec": {
   "display_name": "Python 3 (ipykernel)",
   "language": "python",
   "name": "python3"
  },
  "language_info": {
   "codemirror_mode": {
    "name": "ipython",
    "version": 3
   },
   "file_extension": ".py",
   "mimetype": "text/x-python",
   "name": "python",
   "nbconvert_exporter": "python",
   "pygments_lexer": "ipython3",
   "version": "3.12.8"
  }
 },
 "nbformat": 4,
 "nbformat_minor": 5
}
